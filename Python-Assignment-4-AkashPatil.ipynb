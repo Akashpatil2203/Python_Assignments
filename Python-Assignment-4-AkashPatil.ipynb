{
 "cells": [
  {
   "cell_type": "markdown",
   "id": "9ab7acb3",
   "metadata": {},
   "source": [
    "# Python Assignment - 2\n",
    "### Carries - 30 marks"
   ]
  },
  {
   "cell_type": "markdown",
   "id": "d4122e1a",
   "metadata": {},
   "source": [
    "## What is List? How will you reverse a list?"
   ]
  },
  {
   "cell_type": "markdown",
   "id": "8e2976dc",
   "metadata": {},
   "source": [
    "A list is a collection of items that can be of different data types. Lists are one of the built-in data structures and are commonly used to store and manipulate collections of data. Lists are ordered, mutable (you can change their elements), and allow duplicates."
   ]
  },
  {
   "cell_type": "code",
   "execution_count": 4,
   "id": "0d336f23",
   "metadata": {},
   "outputs": [
    {
     "name": "stdout",
     "output_type": "stream",
     "text": [
      "[5, 4, 3, 2, 1]\n"
     ]
    }
   ],
   "source": [
    "my_list = [1, 2, 3, 4, 5]\n",
    "my_list.reverse()\n",
    "print(my_list)"
   ]
  },
  {
   "cell_type": "markdown",
   "id": "69255251",
   "metadata": {},
   "source": [
    "# How will you compare two lists?"
   ]
  },
  {
   "cell_type": "code",
   "execution_count": 5,
   "id": "ee751ef2",
   "metadata": {},
   "outputs": [
    {
     "name": "stdout",
     "output_type": "stream",
     "text": [
      "False\n"
     ]
    }
   ],
   "source": [
    "list1 = [1, 2, 3]\n",
    "list2 = [1, 2, 3, 4]\n",
    "\n",
    "are_equal = len(list1) == len(list2)\n",
    "\n",
    "print(are_equal)  # False (since the lists have different lengths)"
   ]
  },
  {
   "cell_type": "markdown",
   "id": "367150d6",
   "metadata": {},
   "source": [
    "###  How will you remove last object from a list? Suppose list1 is [2, 33, 222, 14, and 25], what is list1 [-1]? "
   ]
  },
  {
   "cell_type": "markdown",
   "id": "7867223d",
   "metadata": {},
   "source": [
    "Using pop() method"
   ]
  },
  {
   "cell_type": "code",
   "execution_count": 13,
   "id": "6109683f",
   "metadata": {},
   "outputs": [
    {
     "name": "stdout",
     "output_type": "stream",
     "text": [
      "[2, 33, 222, 14]\n",
      "Removed Element  15\n"
     ]
    }
   ],
   "source": [
    "list1 = [2, 33, 222, 14, 15]\n",
    "last_element = list1.pop()  # Removes and returns the last element\n",
    "print(list1)  # [2, 33, 222, 14]\n",
    "print(\"Removed Element \",last_element)  # 15 (the removed element)"
   ]
  },
  {
   "cell_type": "markdown",
   "id": "9ad2912e",
   "metadata": {},
   "source": [
    "### Differentiate between append () and extend () methods? "
   ]
  },
  {
   "cell_type": "markdown",
   "id": "d19caf94",
   "metadata": {},
   "source": [
    "In Python, both the append() and extend() methods are used to add elements to a list, but they work differently:\n",
    "\n",
    "1. **append() Method:**\n",
    "   - The append() method is used to add a single element to the end of a list.\n",
    "   - It takes one argument, which is the element you want to add.\n",
    "   - After using append(), the list contains the newly added element as a single item.\n",
    "   - It does not change the original list structure.\n"
   ]
  },
  {
   "cell_type": "code",
   "execution_count": 24,
   "id": "d1ef0aaa",
   "metadata": {},
   "outputs": [
    {
     "name": "stdout",
     "output_type": "stream",
     "text": [
      "[1, 2, 3, 4]\n"
     ]
    }
   ],
   "source": [
    "mylist1=[1,2,3]\n",
    "mylist1.append(4)\n",
    "print(mylist1)"
   ]
  },
  {
   "cell_type": "markdown",
   "id": "8df33dad",
   "metadata": {},
   "source": [
    "2. **extend() Method:**\n",
    "   - The extend() method is used to add multiple elements (usually from another iterable, like a list or tuple) to the end of a list.\n",
    "   - It takes an iterable as its argument and adds all its elements individually to the list.\n",
    "   - It modifies the original list by adding all elements from the iterable.\n"
   ]
  },
  {
   "cell_type": "code",
   "execution_count": 27,
   "id": "3d6a69d0",
   "metadata": {},
   "outputs": [
    {
     "name": "stdout",
     "output_type": "stream",
     "text": [
      "[1, 2, 3, 4, 5, 6]\n"
     ]
    }
   ],
   "source": [
    "mylist2 = [1, 2, 3]\n",
    "mylist2.extend([4, 5, 6])\n",
    "print(mylist2)"
   ]
  },
  {
   "cell_type": "markdown",
   "id": "5f8c10ed",
   "metadata": {},
   "source": [
    "### Write a Python program to find the second smallest number in a list."
   ]
  },
  {
   "cell_type": "code",
   "execution_count": 28,
   "id": "79acc6a9",
   "metadata": {},
   "outputs": [
    {
     "name": "stdout",
     "output_type": "stream",
     "text": [
      "The second smallest number is: 2\n"
     ]
    }
   ],
   "source": [
    "def second_smallest(lst):\n",
    "    if len(lst) < 2:\n",
    "        return \"List must have at least two elements\"\n",
    "    \n",
    "    sorted_list = sorted(lst)\n",
    "    return sorted_list[1]\n",
    "\n",
    "# Example usage:\n",
    "my_list = [5, 2, 8, 1, 9, 3]\n",
    "result = second_smallest(my_list)\n",
    "print(\"The second smallest number is:\", result)"
   ]
  },
  {
   "cell_type": "markdown",
   "id": "6ded1b65",
   "metadata": {},
   "source": [
    "### Write a Python program to find the length of a tuple."
   ]
  },
  {
   "cell_type": "code",
   "execution_count": 29,
   "id": "61cfffe0",
   "metadata": {},
   "outputs": [
    {
     "name": "stdout",
     "output_type": "stream",
     "text": [
      "The length of the tuple is: 5\n"
     ]
    }
   ],
   "source": [
    "my_tuple = (1, 2, 3, 4, 5)\n",
    "length = len(my_tuple)\n",
    "print(\"The length of the tuple is:\", length)"
   ]
  },
  {
   "cell_type": "markdown",
   "id": "86d7bc5d",
   "metadata": {},
   "source": [
    "## Write a Python program to reverse a tuple."
   ]
  },
  {
   "cell_type": "code",
   "execution_count": 30,
   "id": "161ca274",
   "metadata": {},
   "outputs": [
    {
     "name": "stdout",
     "output_type": "stream",
     "text": [
      "The length of the tuple is: 5\n"
     ]
    }
   ],
   "source": [
    "my_tuple = (1, 2, 3, 4, 5)\n",
    "length = len(my_tuple)\n",
    "print(\"The length of the tuple is:\", length)"
   ]
  },
  {
   "cell_type": "markdown",
   "id": "2a982267",
   "metadata": {},
   "source": [
    "### Write a Python program to remove duplicates from a list. "
   ]
  },
  {
   "cell_type": "code",
   "execution_count": 31,
   "id": "94d4beb8",
   "metadata": {},
   "outputs": [
    {
     "name": "stdout",
     "output_type": "stream",
     "text": [
      "Original list: [5, 2, 8, 1, 9, 3]\n",
      "List with duplicates removed: [1, 2, 3, 5, 8, 9]\n"
     ]
    }
   ],
   "source": [
    "unique_list = list(set(my_list))\n",
    "\n",
    "print(\"Original list:\", my_list)\n",
    "print(\"List with duplicates removed:\", unique_list)"
   ]
  },
  {
   "cell_type": "markdown",
   "id": "2573940b",
   "metadata": {},
   "source": [
    "## Write a Python function that takes a list and returns a new list with unique elements of the first list."
   ]
  },
  {
   "cell_type": "code",
   "execution_count": 32,
   "id": "6c34b94a",
   "metadata": {},
   "outputs": [
    {
     "name": "stdout",
     "output_type": "stream",
     "text": [
      "List with unique elements: [1, 2, 3, 4, 5]\n"
     ]
    }
   ],
   "source": [
    "def unique_elements(input_list):\n",
    "    unique_list = []\n",
    "    for item in input_list:\n",
    "        if item not in unique_list:\n",
    "            unique_list.append(item)\n",
    "    return unique_list\n",
    "\n",
    "# Example usage:\n",
    "my_list = [1, 2, 2, 3, 4, 4, 5]\n",
    "result = unique_elements(my_list)\n",
    "print(\"List with unique elements:\", result)"
   ]
  },
  {
   "cell_type": "markdown",
   "id": "569027d9",
   "metadata": {},
   "source": [
    "###  Write a Python program to check a list is empty or not. "
   ]
  },
  {
   "cell_type": "code",
   "execution_count": 33,
   "id": "fd71c169",
   "metadata": {},
   "outputs": [
    {
     "name": "stdout",
     "output_type": "stream",
     "text": [
      "The list is empty.\n"
     ]
    }
   ],
   "source": [
    "my_list = []  # This is an empty list\n",
    "\n",
    "if not my_list:\n",
    "    print(\"The list is empty.\")\n",
    "else:\n",
    "    print(\"The list is not empty.\")"
   ]
  },
  {
   "cell_type": "markdown",
   "id": "c64d9e48",
   "metadata": {},
   "source": [
    "### Write a Python function to get the largest number, smallest num and sum of all from a list. "
   ]
  },
  {
   "cell_type": "code",
   "execution_count": 34,
   "id": "155dd0e4",
   "metadata": {},
   "outputs": [
    {
     "name": "stdout",
     "output_type": "stream",
     "text": [
      "Largest number: 31\n",
      "Smallest number: 4\n",
      "Sum of all numbers: 89\n"
     ]
    }
   ],
   "source": [
    "my_list = [12, 4, 7, 21, 9, 31, 5]\n",
    "\n",
    "# Find the largest number\n",
    "largest = max(my_list)\n",
    "\n",
    "# Find the smallest number\n",
    "smallest = min(my_list)\n",
    "\n",
    "# Calculate the sum of all numbers\n",
    "total_sum = sum(my_list)\n",
    "\n",
    "print(\"Largest number:\", largest)\n",
    "print(\"Smallest number:\", smallest)\n",
    "print(\"Sum of all numbers:\", total_sum)"
   ]
  },
  {
   "cell_type": "markdown",
   "id": "80f8354d",
   "metadata": {},
   "source": [
    "### Write a Python program to get unique values from a list "
   ]
  },
  {
   "cell_type": "code",
   "execution_count": 35,
   "id": "c7ab6392",
   "metadata": {},
   "outputs": [
    {
     "name": "stdout",
     "output_type": "stream",
     "text": [
      "Original list: [1, 2, 2, 3, 4, 4, 5]\n",
      "List with unique values: [1, 2, 3, 4, 5]\n"
     ]
    }
   ],
   "source": [
    "my_list = [1, 2, 2, 3, 4, 4, 5]\n",
    "\n",
    "# Convert the list to a set to get unique values\n",
    "unique_values = set(my_list)\n",
    "\n",
    "# If you want the result back as a list, you can convert the set back to a list\n",
    "unique_list = list(unique_values)\n",
    "\n",
    "print(\"Original list:\", my_list)\n",
    "print(\"List with unique values:\", unique_list)"
   ]
  },
  {
   "cell_type": "markdown",
   "id": "a62c3d8c",
   "metadata": {},
   "source": [
    "### Write a Python program to split a list into different variables."
   ]
  },
  {
   "cell_type": "code",
   "execution_count": 36,
   "id": "25bb05a2",
   "metadata": {},
   "outputs": [
    {
     "name": "stdout",
     "output_type": "stream",
     "text": [
      "var1: 1\n",
      "var2: 2\n",
      "var3: 3\n",
      "var4: 4\n",
      "var5: 5\n"
     ]
    }
   ],
   "source": [
    "my_list = [1, 2, 3, 4, 5]\n",
    "\n",
    "# Unpack the list into separate variables\n",
    "var1, var2, var3, var4, var5 = my_list\n",
    "\n",
    "# Now, var1, var2, var3, var4, and var5 hold the values from the list\n",
    "print(\"var1:\", var1)\n",
    "print(\"var2:\", var2)\n",
    "print(\"var3:\", var3)\n",
    "print(\"var4:\", var4)\n",
    "print(\"var5:\", var5)"
   ]
  },
  {
   "cell_type": "markdown",
   "id": "f85589f9",
   "metadata": {},
   "source": [
    "### Write a Python program to check whether an element exists within a tuple"
   ]
  },
  {
   "cell_type": "code",
   "execution_count": 37,
   "id": "84d3d847",
   "metadata": {},
   "outputs": [
    {
     "name": "stdout",
     "output_type": "stream",
     "text": [
      "3 exists in the tuple.\n"
     ]
    }
   ],
   "source": [
    "my_tuple = (1, 2, 3, 4, 5)\n",
    "\n",
    "element_to_check = 3\n",
    "\n",
    "if element_to_check in my_tuple:\n",
    "    print(f\"{element_to_check} exists in the tuple.\")\n",
    "else:\n",
    "    print(f\"{element_to_check} does not exist in the tuple.\")"
   ]
  },
  {
   "cell_type": "markdown",
   "id": "f9fdf431",
   "metadata": {},
   "source": [
    "### Write a Python program to convert a list to a tuple. "
   ]
  },
  {
   "cell_type": "code",
   "execution_count": 38,
   "id": "55b39659",
   "metadata": {},
   "outputs": [
    {
     "name": "stdout",
     "output_type": "stream",
     "text": [
      "Original list: [1, 2, 3, 4, 5]\n",
      "Tuple: (1, 2, 3, 4, 5)\n"
     ]
    }
   ],
   "source": [
    "my_list = [1, 2, 3, 4, 5]\n",
    "\n",
    "# Convert the list to a tuple\n",
    "my_tuple = tuple(my_list)\n",
    "\n",
    "print(\"Original list:\", my_list)\n",
    "print(\"Tuple:\", my_tuple)"
   ]
  },
  {
   "cell_type": "markdown",
   "id": "9b882e05",
   "metadata": {},
   "source": [
    "### Write a Python program to find the repeated items of a tuple."
   ]
  },
  {
   "cell_type": "code",
   "execution_count": 39,
   "id": "9b81129e",
   "metadata": {},
   "outputs": [
    {
     "name": "stdout",
     "output_type": "stream",
     "text": [
      "Tuple: (1, 2, 2, 3, 4, 4, 5)\n",
      "Repeated items: [2, 4]\n"
     ]
    }
   ],
   "source": [
    "my_tuple = (1, 2, 2, 3, 4, 4, 5)\n",
    "\n",
    "# Create a dictionary to store counts of each item\n",
    "item_counts = {}\n",
    "repeated_items = []\n",
    "\n",
    "# Iterate through the tuple and update the counts\n",
    "for item in my_tuple:\n",
    "    if item in item_counts:\n",
    "        item_counts[item] += 1\n",
    "    else:\n",
    "        item_counts[item] = 1\n",
    "\n",
    "# Find items with counts greater than 1 (repeated items)\n",
    "for item, count in item_counts.items():\n",
    "    if count > 1:\n",
    "        repeated_items.append(item)\n",
    "\n",
    "print(\"Tuple:\", my_tuple)\n",
    "print(\"Repeated items:\", repeated_items)"
   ]
  },
  {
   "cell_type": "markdown",
   "id": "a4b253d1",
   "metadata": {},
   "source": [
    "###  Write a Python program to remove an empty tuple(s) from a list of tuples"
   ]
  },
  {
   "cell_type": "code",
   "execution_count": 40,
   "id": "5b573974",
   "metadata": {},
   "outputs": [
    {
     "name": "stdout",
     "output_type": "stream",
     "text": [
      "Original list of tuples: [(1, 2), (), (3, 4), (), (5, 6), ()]\n",
      "List with empty tuples removed: [(1, 2), (3, 4), (5, 6)]\n"
     ]
    }
   ],
   "source": [
    "list_of_tuples = [(1, 2), (), (3, 4), (), (5, 6), ()]\n",
    "\n",
    "# Use list comprehension to remove empty tuples\n",
    "filtered_list = [tup for tup in list_of_tuples if tup]\n",
    "\n",
    "print(\"Original list of tuples:\", list_of_tuples)\n",
    "print(\"List with empty tuples removed:\", filtered_list)"
   ]
  },
  {
   "cell_type": "markdown",
   "id": "e4b2114c",
   "metadata": {},
   "source": [
    "### Write a Python program to unzip a list of tuples into individual lists. "
   ]
  },
  {
   "cell_type": "code",
   "execution_count": 41,
   "id": "1b624da0",
   "metadata": {},
   "outputs": [
    {
     "name": "stdout",
     "output_type": "stream",
     "text": [
      "First elements: [1, 2, 3]\n",
      "Second elements: ['a', 'b', 'c']\n"
     ]
    }
   ],
   "source": [
    "list_of_tuples = [(1, 'a'), (2, 'b'), (3, 'c')]\n",
    "\n",
    "# Initialize empty lists for each component\n",
    "first_elements = []\n",
    "second_elements = []\n",
    "\n",
    "# Iterate through the list of tuples and extract elements\n",
    "for tup in list_of_tuples:\n",
    "    first_elements.append(tup[0])\n",
    "    second_elements.append(tup[1])\n",
    "\n",
    "print(\"First elements:\", first_elements)\n",
    "print(\"Second elements:\", second_elements)"
   ]
  },
  {
   "cell_type": "markdown",
   "id": "f6c16416",
   "metadata": {},
   "source": [
    "### Write a Python function to check whether a number is in a given range"
   ]
  },
  {
   "cell_type": "code",
   "execution_count": 42,
   "id": "5c2e1e91",
   "metadata": {},
   "outputs": [
    {
     "name": "stdout",
     "output_type": "stream",
     "text": [
      "5 is in the range between 1 and 10.\n"
     ]
    }
   ],
   "source": [
    "# Define the range\n",
    "start = 1\n",
    "end = 10\n",
    "\n",
    "# Number to check\n",
    "number = 5\n",
    "\n",
    "# Check if the number is within the range\n",
    "if start <= number <= end:\n",
    "    print(f\"{number} is in the range between {start} and {end}.\")\n",
    "else:\n",
    "    print(f\"{number} is not in the range between {start} and {end}.\")"
   ]
  },
  {
   "cell_type": "markdown",
   "id": "ca38d306",
   "metadata": {},
   "source": [
    "### Write a Python function that checks whether a passed string is palindrome or not "
   ]
  },
  {
   "cell_type": "code",
   "execution_count": 43,
   "id": "e20061fb",
   "metadata": {},
   "outputs": [
    {
     "name": "stdout",
     "output_type": "stream",
     "text": [
      "'racecar' is a palindrome.\n",
      "'hello' is not a palindrome.\n"
     ]
    }
   ],
   "source": [
    "def is_palindrome(input_string):\n",
    "    # Remove spaces and convert to lowercase for case-insensitive comparison\n",
    "    input_string = input_string.replace(\" \", \"\").lower()\n",
    "    \n",
    "    # Compare the original string with its reverse\n",
    "    return input_string == input_string[::-1]\n",
    "\n",
    "# Example usage:\n",
    "string1 = \"racecar\"\n",
    "string2 = \"hello\"\n",
    "\n",
    "if is_palindrome(string1):\n",
    "    print(f\"'{string1}' is a palindrome.\")\n",
    "else:\n",
    "    print(f\"'{string1}' is not a palindrome.\")\n",
    "\n",
    "if is_palindrome(string2):\n",
    "    print(f\"'{string2}' is a palindrome.\")\n",
    "else:\n",
    "    print(f\"'{string2}' is not a palindrome.\")"
   ]
  },
  {
   "cell_type": "markdown",
   "id": "19e7c4e5",
   "metadata": {},
   "source": [
    "### Write a Python program to returns sum of all divisors of a number "
   ]
  },
  {
   "cell_type": "code",
   "execution_count": 44,
   "id": "5fd0d815",
   "metadata": {},
   "outputs": [
    {
     "name": "stdout",
     "output_type": "stream",
     "text": [
      "The sum of divisors of 12 is 28\n"
     ]
    }
   ],
   "source": [
    "def sum_of_divisors(number):\n",
    "    divisors_sum = 0\n",
    "    for divisor in range(1, number + 1):\n",
    "        if number % divisor == 0:\n",
    "            divisors_sum += divisor\n",
    "    return divisors_sum\n",
    "\n",
    "# Example usage:\n",
    "num = 12\n",
    "result = sum_of_divisors(num)\n",
    "print(f\"The sum of divisors of {num} is {result}\")"
   ]
  },
  {
   "cell_type": "markdown",
   "id": "e64676e6",
   "metadata": {},
   "source": [
    "### Write a Python program to find the maximum and minimum numbers from the specified decimal numbers. "
   ]
  },
  {
   "cell_type": "code",
   "execution_count": 45,
   "id": "119282e9",
   "metadata": {},
   "outputs": [
    {
     "name": "stdout",
     "output_type": "stream",
     "text": [
      "Decimal Number: 4567.891234\n",
      "Maximum Digit: 9\n",
      "Minimum Digit: 1\n"
     ]
    }
   ],
   "source": [
    "decimal_number = 4567.891234\n",
    "\n",
    "# Convert the decimal number to a string\n",
    "decimal_str = str(decimal_number)\n",
    "\n",
    "# Remove the decimal point if it exists\n",
    "decimal_str = decimal_str.replace(\".\", \"\")\n",
    "\n",
    "# Convert each digit back to an integer and find the maximum and minimum\n",
    "digits = [int(digit) for digit in decimal_str]\n",
    "max_digit = max(digits)\n",
    "min_digit = min(digits)\n",
    "\n",
    "print(f\"Decimal Number: {decimal_number}\")\n",
    "print(f\"Maximum Digit: {max_digit}\")\n",
    "print(f\"Minimum Digit: {min_digit}\")"
   ]
  },
  {
   "cell_type": "markdown",
   "id": "afc120de",
   "metadata": {},
   "source": [
    "### Write a Python program to calculate the area of a parallelogram "
   ]
  },
  {
   "cell_type": "code",
   "execution_count": 46,
   "id": "0d4e61b6",
   "metadata": {},
   "outputs": [
    {
     "name": "stdout",
     "output_type": "stream",
     "text": [
      "The area of the parallelogram is 40 square units.\n"
     ]
    }
   ],
   "source": [
    "def parallelogram_area(base, height):\n",
    "    area = base * height\n",
    "    return area\n",
    "\n",
    "# Example usage:\n",
    "base_length = 5  # Replace with the actual length of the base\n",
    "height = 8      # Replace with the actual height\n",
    "\n",
    "area = parallelogram_area(base_length, height)\n",
    "print(f\"The area of the parallelogram is {area} square units.\")"
   ]
  },
  {
   "cell_type": "markdown",
   "id": "23ab496f",
   "metadata": {},
   "source": [
    "### Write a Python function to check whether a number is perfect or not. "
   ]
  },
  {
   "cell_type": "code",
   "execution_count": 47,
   "id": "2d7e8da7",
   "metadata": {},
   "outputs": [
    {
     "name": "stdout",
     "output_type": "stream",
     "text": [
      "28 is a perfect number.\n"
     ]
    }
   ],
   "source": [
    "def is_perfect_number(number):\n",
    "    if number <= 0:\n",
    "        return False\n",
    "\n",
    "    divisors_sum = 0\n",
    "    for i in range(1, number):\n",
    "        if number % i == 0:\n",
    "            divisors_sum += i\n",
    "\n",
    "    return divisors_sum == number\n",
    "\n",
    "# Example usage:\n",
    "num = 28  # Replace with the number you want to check\n",
    "\n",
    "if is_perfect_number(num):\n",
    "    print(f\"{num} is a perfect number.\")\n",
    "else:\n",
    "    print(f\"{num} is not a perfect number.\")"
   ]
  },
  {
   "cell_type": "markdown",
   "id": "5e41e219",
   "metadata": {},
   "source": [
    "### Write a Python program to convert degree to radian"
   ]
  },
  {
   "cell_type": "code",
   "execution_count": 48,
   "id": "87fb8406",
   "metadata": {},
   "outputs": [
    {
     "name": "stdout",
     "output_type": "stream",
     "text": [
      "90 degrees is equal to 1.57 radians.\n"
     ]
    }
   ],
   "source": [
    "import math\n",
    "\n",
    "# Input in degrees\n",
    "degrees = 90  # Replace with the degrees you want to convert\n",
    "\n",
    "# Convert degrees to radians\n",
    "radians = degrees * (math.pi / 180)\n",
    "\n",
    "print(f\"{degrees} degrees is equal to {radians:.2f} radians.\")"
   ]
  },
  {
   "cell_type": "markdown",
   "id": "368bba70",
   "metadata": {},
   "source": [
    "###  Write a Python program to calculate the area of a trapezoid "
   ]
  },
  {
   "cell_type": "code",
   "execution_count": 49,
   "id": "34ef44e0",
   "metadata": {},
   "outputs": [
    {
     "name": "stdout",
     "output_type": "stream",
     "text": [
      "The area of the trapezoid is 24.0 square units.\n"
     ]
    }
   ],
   "source": [
    "def trapezoid_area(base1, base2, height):\n",
    "    area = 0.5 * (base1 + base2) * height\n",
    "    return area\n",
    "\n",
    "# Example usage:\n",
    "base1_length = 5  # Replace with the length of the first base\n",
    "base2_length = 7  # Replace with the length of the second base\n",
    "height = 4       # Replace with the height\n",
    "\n",
    "area = trapezoid_area(base1_length, base2_length, height)\n",
    "print(f\"The area of the trapezoid is {area} square units.\")"
   ]
  },
  {
   "cell_type": "markdown",
   "id": "8bf811b7",
   "metadata": {},
   "source": [
    "## Write a Python program to calculate surface volume and area of a cylinder "
   ]
  },
  {
   "cell_type": "code",
   "execution_count": 50,
   "id": "f5fc9dfb",
   "metadata": {},
   "outputs": [
    {
     "name": "stdout",
     "output_type": "stream",
     "text": [
      "Cylinder Surface Area:\n",
      "Lateral Surface Area: 314.16 square units\n",
      "Base Area: 78.54 square units\n",
      "Total Surface Area: 785.40 square units\n",
      "Cylinder Volume: 785.40 cubic units\n"
     ]
    }
   ],
   "source": [
    "import math\n",
    "\n",
    "def cylinder_surface_area(radius, height):\n",
    "    lsa = 2 * math.pi * radius * height\n",
    "    ba = math.pi * radius**2\n",
    "    tsa = 2 * lsa + 2 * ba\n",
    "    return lsa, ba, tsa\n",
    "\n",
    "def cylinder_volume(radius, height):\n",
    "    volume = math.pi * radius**2 * height\n",
    "    return volume\n",
    "\n",
    "# Example usage:\n",
    "cylinder_radius = 5  # Replace with the radius of the cylinder\n",
    "cylinder_height = 10  # Replace with the height of the cylinder\n",
    "\n",
    "lsa, ba, tsa = cylinder_surface_area(cylinder_radius, cylinder_height)\n",
    "volume = cylinder_volume(cylinder_radius, cylinder_height)\n",
    "\n",
    "print(f\"Cylinder Surface Area:\")\n",
    "print(f\"Lateral Surface Area: {lsa:.2f} square units\")\n",
    "print(f\"Base Area: {ba:.2f} square units\")\n",
    "print(f\"Total Surface Area: {tsa:.2f} square units\")\n",
    "print(f\"Cylinder Volume: {volume:.2f} cubic units\")"
   ]
  },
  {
   "cell_type": "code",
   "execution_count": null,
   "id": "28cae912",
   "metadata": {},
   "outputs": [],
   "source": []
  }
 ],
 "metadata": {
  "kernelspec": {
   "display_name": "Python 3 (ipykernel)",
   "language": "python",
   "name": "python3"
  },
  "language_info": {
   "codemirror_mode": {
    "name": "ipython",
    "version": 3
   },
   "file_extension": ".py",
   "mimetype": "text/x-python",
   "name": "python",
   "nbconvert_exporter": "python",
   "pygments_lexer": "ipython3",
   "version": "3.11.4"
  },
  "vscode": {
   "interpreter": {
    "hash": "5ae58900cfbb8c43ab3495913814b7cf26024f51651a94ce8bf64d6111688e8d"
   }
  }
 },
 "nbformat": 4,
 "nbformat_minor": 5
}
