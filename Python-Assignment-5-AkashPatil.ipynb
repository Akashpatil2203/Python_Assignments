{
 "cells": [
  {
   "cell_type": "markdown",
   "id": "4e96153a",
   "metadata": {
    "id": "4e96153a"
   },
   "source": [
    "# Python Assignment - 3\n",
    "### Carries - 30 marks"
   ]
  },
  {
   "cell_type": "markdown",
   "id": "b5bc6391",
   "metadata": {
    "id": "b5bc6391"
   },
   "source": [
    "## What is File function in python? What is keywords to create and write file."
   ]
  },
  {
   "cell_type": "markdown",
   "id": "A5nI00-XVoMz",
   "metadata": {
    "id": "A5nI00-XVoMz"
   },
   "source": [
    "**Ans.** In Python, the file function does not exist as a built-in function. However, there is a built-in open function that is used for working with files. The open function is used to open a file and returns a file object, which can be used to read from, write to, or manipulate the contents of the file."
   ]
  },
  {
   "cell_type": "markdown",
   "id": "jkCTrlGZ9FPl",
   "metadata": {
    "id": "jkCTrlGZ9FPl"
   },
   "source": [
    "Keywords to Create and Write file\n",
    "1. open(): Used to open a file.\n",
    "2. write(): Used to write data to a file.\n",
    "3. close(): Used to close the file when you're done with it.\n",
    "4. with: A context manager that simplifies file handling by automatically closing the file when the block is exited.italicised text"
   ]
  },
  {
   "cell_type": "code",
   "execution_count": 21,
   "id": "10cffab9",
   "metadata": {
    "executionInfo": {
     "elapsed": 489,
     "status": "ok",
     "timestamp": 1696940295252,
     "user": {
      "displayName": "Abhishek Jaiswal",
      "userId": "11917054125403500197"
     },
     "user_tz": -330
    },
    "id": "10cffab9"
   },
   "outputs": [],
   "source": [
    "#METHOD: 1 to Create and Write file\n",
    "file=open(\"myfile.txt\",\"w\")\n",
    "file.write(\"What's up\\n\")\n",
    "file.write(\"I am Fine\\n\")\n",
    "file.write(\"What about you?\\n\")\n",
    "file.close()"
   ]
  },
  {
   "cell_type": "code",
   "execution_count": 19,
   "id": "ssd9799EcNA1",
   "metadata": {
    "executionInfo": {
     "elapsed": 10,
     "status": "ok",
     "timestamp": 1696940220206,
     "user": {
      "displayName": "Abhishek Jaiswal",
      "userId": "11917054125403500197"
     },
     "user_tz": -330
    },
    "id": "ssd9799EcNA1"
   },
   "outputs": [],
   "source": [
    "#METHOD: 2\n",
    "with open(\"myfile.txt\",\"w\") as file:\n",
    "  file.write(\"What's up\\n\")\n",
    "  file.write(\"I am Fine\\n\")\n",
    "  file.write(\"What about you?\\n\")\n"
   ]
  },
  {
   "cell_type": "markdown",
   "id": "ee678cfd",
   "metadata": {
    "id": "ee678cfd"
   },
   "source": [
    "## Write a Python program to read an entire text file."
   ]
  },
  {
   "cell_type": "code",
   "execution_count": 22,
   "id": "cdf7ae1a",
   "metadata": {
    "colab": {
     "base_uri": "https://localhost:8080/"
    },
    "executionInfo": {
     "elapsed": 475,
     "status": "ok",
     "timestamp": 1696940548507,
     "user": {
      "displayName": "Abhishek Jaiswal",
      "userId": "11917054125403500197"
     },
     "user_tz": -330
    },
    "id": "cdf7ae1a",
    "outputId": "3b89a51f-8085-4987-d229-15e62a99b384"
   },
   "outputs": [
    {
     "name": "stdout",
     "output_type": "stream",
     "text": [
      "What's up\n",
      "I am Fine\n",
      "What about you?\n",
      "\n"
     ]
    }
   ],
   "source": [
    "with open(\"myfile.txt\",\"r\") as file:\n",
    "  file_contents=file.read()\n",
    "print(file_contents)"
   ]
  },
  {
   "cell_type": "markdown",
   "id": "dd46afa5",
   "metadata": {
    "id": "dd46afa5"
   },
   "source": [
    "## Write a Python program to append text to a file and display the text."
   ]
  },
  {
   "cell_type": "code",
   "execution_count": 23,
   "id": "c80ebe1f",
   "metadata": {
    "colab": {
     "base_uri": "https://localhost:8080/"
    },
    "executionInfo": {
     "elapsed": 6842,
     "status": "ok",
     "timestamp": 1696940559942,
     "user": {
      "displayName": "Abhishek Jaiswal",
      "userId": "11917054125403500197"
     },
     "user_tz": -330
    },
    "id": "c80ebe1f",
    "outputId": "e07b4e96-38cf-4025-c2ef-af35cabc2461"
   },
   "outputs": [
    {
     "name": "stdout",
     "output_type": "stream",
     "text": [
      "Enter text to append: Guys\n"
     ]
    }
   ],
   "source": [
    "with open(\"myfile.txt\",\"a\") as file:\n",
    "  text_to_append=input(\"Enter text to append: \")\n",
    "  file.write(text_to_append +\"\\n\")\n",
    "\n",
    "with open(\"myfile.txt\",\"r\") as file:\n",
    "  file_contents=file.read()\n"
   ]
  },
  {
   "cell_type": "code",
   "execution_count": 24,
   "id": "FstbJsPnFuxf",
   "metadata": {
    "colab": {
     "base_uri": "https://localhost:8080/"
    },
    "executionInfo": {
     "elapsed": 635,
     "status": "ok",
     "timestamp": 1696940567267,
     "user": {
      "displayName": "Abhishek Jaiswal",
      "userId": "11917054125403500197"
     },
     "user_tz": -330
    },
    "id": "FstbJsPnFuxf",
    "outputId": "44402516-8bee-4fd4-a5a0-7cbcbfd77f70"
   },
   "outputs": [
    {
     "name": "stdout",
     "output_type": "stream",
     "text": [
      "What's up\n",
      "I am Fine\n",
      "What about you?\n",
      "Guys\n",
      "\n"
     ]
    }
   ],
   "source": [
    "print(file_contents)"
   ]
  },
  {
   "cell_type": "markdown",
   "id": "52316493",
   "metadata": {
    "id": "52316493"
   },
   "source": [
    "\\\n",
    "## Write a Python program to read first n lines of a file."
   ]
  },
  {
   "cell_type": "code",
   "execution_count": 25,
   "id": "23617604",
   "metadata": {
    "colab": {
     "base_uri": "https://localhost:8080/"
    },
    "executionInfo": {
     "elapsed": 5310,
     "status": "ok",
     "timestamp": 1696940580594,
     "user": {
      "displayName": "Abhishek Jaiswal",
      "userId": "11917054125403500197"
     },
     "user_tz": -330
    },
    "id": "23617604",
    "outputId": "ce05a25c-a5fd-4d7f-d497-b254e9e9ce96"
   },
   "outputs": [
    {
     "name": "stdout",
     "output_type": "stream",
     "text": [
      "Enter first n line which you want to read: 1\n",
      "What's up\n"
     ]
    }
   ],
   "source": [
    "def read_first_n_lines(file_name, n):\n",
    "    try:\n",
    "        with open(file_name, 'r') as file:\n",
    "            for i in range(n):\n",
    "                line = file.readline()\n",
    "                if not line:\n",
    "                    break\n",
    "                print(line.strip())\n",
    "    except FileNotFoundError:\n",
    "        print(f\"Error: The file '{file_name}' was not found.\")\n",
    "    except Exception as e:\n",
    "        print(f\"An error occurred: {e}\")\n",
    "\n",
    "file_name = 'myfile.txt'\n",
    "n = int(input(\"Enter first n line which you want to read: \") )\n",
    "read_first_n_lines(file_name, n)\n"
   ]
  },
  {
   "cell_type": "markdown",
   "id": "45dba4dc",
   "metadata": {
    "id": "45dba4dc"
   },
   "source": [
    "## Write a Python program to read last n lines of a file."
   ]
  },
  {
   "cell_type": "code",
   "execution_count": 26,
   "id": "d36a72b0",
   "metadata": {
    "colab": {
     "base_uri": "https://localhost:8080/"
    },
    "executionInfo": {
     "elapsed": 3452,
     "status": "ok",
     "timestamp": 1696940587523,
     "user": {
      "displayName": "Abhishek Jaiswal",
      "userId": "11917054125403500197"
     },
     "user_tz": -330
    },
    "id": "d36a72b0",
    "outputId": "2c5ae370-96ad-478a-b06d-bbdfaab42686"
   },
   "outputs": [
    {
     "name": "stdout",
     "output_type": "stream",
     "text": [
      "Enter first n line which you want to read:  5\n",
      "Last 5 lines of myfile.txt:\n",
      "What's up\n",
      "I am Fine\n",
      "What about you?\n",
      "Guys\n"
     ]
    }
   ],
   "source": [
    "def read_last_n_lines(filename, n):\n",
    "    try:\n",
    "        with open(filename, 'r') as file:\n",
    "            lines = file.readlines()\n",
    "            last_n_lines = lines[-n:]\n",
    "            return last_n_lines\n",
    "    except FileNotFoundError:\n",
    "        return []\n",
    "\n",
    "filename = 'myfile.txt'\n",
    "n = int(input(\"Enter first n line which you want to read:  \"))\n",
    "last_n_lines = read_last_n_lines(filename, n)\n",
    "\n",
    "if last_n_lines:\n",
    "    print(f\"Last {n} lines of {filename}:\")\n",
    "    for line in last_n_lines:\n",
    "        print(line.strip())\n",
    "else:\n",
    "    print(f\"File '{filename}' not found.\")\n"
   ]
  },
  {
   "cell_type": "markdown",
   "id": "76a74d09",
   "metadata": {
    "id": "76a74d09"
   },
   "source": [
    "## Write a Python program to read a file line by line and store it into a list"
   ]
  },
  {
   "cell_type": "code",
   "execution_count": 27,
   "id": "3ea8e4e4",
   "metadata": {
    "colab": {
     "base_uri": "https://localhost:8080/"
    },
    "executionInfo": {
     "elapsed": 453,
     "status": "ok",
     "timestamp": 1696940593296,
     "user": {
      "displayName": "Abhishek Jaiswal",
      "userId": "11917054125403500197"
     },
     "user_tz": -330
    },
    "id": "3ea8e4e4",
    "outputId": "5a9417fa-2e09-4dd9-a1c2-410b832796f3"
   },
   "outputs": [
    {
     "name": "stdout",
     "output_type": "stream",
     "text": [
      "What's up\n",
      "I am Fine\n",
      "What about you?\n",
      "Guys\n",
      "\n",
      "[\"What's up\", 'I am Fine', 'What about you?', 'Guys']\n"
     ]
    }
   ],
   "source": [
    "# Program to read a file line by line\n",
    "with open(\"myfile.txt\",\"r\") as file:\n",
    "  file_contents=file.read()\n",
    "print(file_contents)\n",
    "\n",
    "file_path = \"myfile.txt\"\n",
    "file_list = []\n",
    "\n",
    "try:\n",
    "    with open(file_path, \"r\") as file:\n",
    "        # Read each line of the file and append it to the list\n",
    "        for line in file:\n",
    "            file_list.append(line.strip())\n",
    "except FileNotFoundError:\n",
    "    print(f\"The file {file_path} was not found.\")\n",
    "except Exception as e:\n",
    "    print(f\"An error occurred: {e}\")\n",
    "\n",
    "# Now, file_list contains the contents of the file as a list of strings\n",
    "print(file_list)\n"
   ]
  },
  {
   "cell_type": "markdown",
   "id": "589e624c",
   "metadata": {
    "id": "589e624c"
   },
   "source": [
    "## Write a Python program to read a file line by line store it into a variable."
   ]
  },
  {
   "cell_type": "code",
   "execution_count": 28,
   "id": "9a6f1553",
   "metadata": {
    "colab": {
     "base_uri": "https://localhost:8080/"
    },
    "executionInfo": {
     "elapsed": 466,
     "status": "ok",
     "timestamp": 1696940601519,
     "user": {
      "displayName": "Abhishek Jaiswal",
      "userId": "11917054125403500197"
     },
     "user_tz": -330
    },
    "id": "9a6f1553",
    "outputId": "eed62cee-33f1-407b-95dd-b72eb54bcdf4"
   },
   "outputs": [
    {
     "name": "stdout",
     "output_type": "stream",
     "text": [
      "What's up\n",
      "I am Fine\n",
      "What about you?\n",
      "Guys\n",
      "\n",
      "What's up\n",
      "I am Fine\n",
      "What about you?\n",
      "Guys\n",
      "\n"
     ]
    }
   ],
   "source": [
    "#Python program to read a file line by line\n",
    "with open(\"myfile.txt\",\"r\") as file:\n",
    "  file_contents=file.read()\n",
    "print(file_contents)\n",
    "\n",
    "#Now, Store a file into a variablr\n",
    "\n",
    "with open('myfile.txt', 'r') as file:\n",
    "    # Read the content of the file into a variable\n",
    "    New_variable = file.read()\n",
    "\n",
    "# Now, the variable 'file_contents' contains the content of the file\n",
    "print(New_variable )\n"
   ]
  },
  {
   "cell_type": "markdown",
   "id": "c5a5e0a9",
   "metadata": {
    "id": "c5a5e0a9"
   },
   "source": [
    "## Write a Python program to copy the contents of a file to another file."
   ]
  },
  {
   "cell_type": "code",
   "execution_count": 31,
   "id": "d47a46fb",
   "metadata": {
    "colab": {
     "base_uri": "https://localhost:8080/"
    },
    "executionInfo": {
     "elapsed": 547,
     "status": "ok",
     "timestamp": 1696940650146,
     "user": {
      "displayName": "Abhishek Jaiswal",
      "userId": "11917054125403500197"
     },
     "user_tz": -330
    },
    "id": "d47a46fb",
    "outputId": "780ac625-42bf-43a6-b285-19e93a5b85f7"
   },
   "outputs": [
    {
     "name": "stdout",
     "output_type": "stream",
     "text": [
      "Contents of 'myfile.txt' copied to 'destination.txt' successfully.\n"
     ]
    }
   ],
   "source": [
    "def copy_file(source_file, destination_file):\n",
    "    try:\n",
    "        with open(source_file, 'r') as source, open(destination_file, 'w') as destination:\n",
    "            for line in source:\n",
    "                destination.write(line)\n",
    "        print(f\"Contents of '{source_file}' copied to '{destination_file}' successfully.\")\n",
    "    except FileNotFoundError:\n",
    "        print(f\"Error: One of the files was not found.\")\n",
    "    except Exception as e:\n",
    "        print(f\"An error occurred: {e}\")\n",
    "\n",
    "source_file_name = 'myfile.txt'\n",
    "destination_file_name = 'destination.txt'\n",
    "\n",
    "copy_file(source_file_name, destination_file_name)\n"
   ]
  },
  {
   "cell_type": "code",
   "execution_count": 32,
   "id": "g7sF8fLeJey2",
   "metadata": {
    "colab": {
     "base_uri": "https://localhost:8080/"
    },
    "executionInfo": {
     "elapsed": 24,
     "status": "ok",
     "timestamp": 1696940653067,
     "user": {
      "displayName": "Abhishek Jaiswal",
      "userId": "11917054125403500197"
     },
     "user_tz": -330
    },
    "id": "g7sF8fLeJey2",
    "outputId": "5d0550e1-4847-4228-a69f-2b3fac7869cd"
   },
   "outputs": [
    {
     "name": "stdout",
     "output_type": "stream",
     "text": [
      "What's up\n",
      "I am Fine\n",
      "What about you?\n",
      "Guys\n",
      "\n"
     ]
    }
   ],
   "source": [
    "with open(\"destination.txt\",\"r\") as file:\n",
    "  file_contents=file.read()\n",
    "print(file_contents)"
   ]
  },
  {
   "cell_type": "markdown",
   "id": "056551f3",
   "metadata": {
    "id": "056551f3"
   },
   "source": [
    "## Write python program that user to enter only odd numbers, else will raise an exception"
   ]
  },
  {
   "cell_type": "code",
   "execution_count": 34,
   "id": "e2ef3212",
   "metadata": {
    "colab": {
     "base_uri": "https://localhost:8080/"
    },
    "executionInfo": {
     "elapsed": 4580,
     "status": "ok",
     "timestamp": 1696940670869,
     "user": {
      "displayName": "Abhishek Jaiswal",
      "userId": "11917054125403500197"
     },
     "user_tz": -330
    },
    "id": "e2ef3212",
    "outputId": "f968fed7-0b17-4047-ad05-8aa547a98e15"
   },
   "outputs": [
    {
     "name": "stdout",
     "output_type": "stream",
     "text": [
      "Enter an odd number: 6\n",
      "Error: You must enter an odd number.\n",
      "Enter an odd number: 3\n",
      "You entered the odd number: 3\n"
     ]
    }
   ],
   "source": [
    "while True:\n",
    "    try:\n",
    "        user_input = int(input(\"Enter an odd number: \"))\n",
    "        if user_input % 2 != 1:\n",
    "            raise ValueError(\"You must enter an odd number.\")\n",
    "        else:\n",
    "            print(f\"You entered the odd number: {user_input}\")\n",
    "            break\n",
    "    except ValueError as ve:\n",
    "        print(f\"Error: {ve}\")\n"
   ]
  },
  {
   "cell_type": "markdown",
   "id": "165279e1",
   "metadata": {
    "id": "165279e1"
   },
   "source": [
    "## Can one block of except statements handle multiple exception?"
   ]
  },
  {
   "cell_type": "markdown",
   "id": "PqxDnh6XKxwr",
   "metadata": {
    "id": "PqxDnh6XKxwr"
   },
   "source": [
    "**Ans** Yes, you can have a single block of except statements that handles multiple exceptions in Python. You can specify multiple exception types in a single except block by enclosing them in parentheses."
   ]
  },
  {
   "cell_type": "code",
   "execution_count": 35,
   "id": "9cc304cc",
   "metadata": {
    "colab": {
     "base_uri": "https://localhost:8080/"
    },
    "executionInfo": {
     "elapsed": 454,
     "status": "ok",
     "timestamp": 1696940678202,
     "user": {
      "displayName": "Abhishek Jaiswal",
      "userId": "11917054125403500197"
     },
     "user_tz": -330
    },
    "id": "9cc304cc",
    "outputId": "2300c523-6be0-40bb-c5e7-65a2422ed846"
   },
   "outputs": [
    {
     "name": "stdout",
     "output_type": "stream",
     "text": [
      "An exception occurred: division by zero\n"
     ]
    }
   ],
   "source": [
    "#e.g of Single except block\n",
    "try:\n",
    "    result = 10 / 0\n",
    "except (ZeroDivisionError, FileNotFoundError) as e:  # Handle multiple exceptions in this block\n",
    "    print(f\"An exception occurred: {e}\")"
   ]
  },
  {
   "cell_type": "code",
   "execution_count": 36,
   "id": "y6kTinE4LmBO",
   "metadata": {
    "colab": {
     "base_uri": "https://localhost:8080/"
    },
    "executionInfo": {
     "elapsed": 447,
     "status": "ok",
     "timestamp": 1696940710494,
     "user": {
      "displayName": "Abhishek Jaiswal",
      "userId": "11917054125403500197"
     },
     "user_tz": -330
    },
    "id": "y6kTinE4LmBO",
    "outputId": "b9bc2300-f005-4d81-f90f-4d53cd892ce4"
   },
   "outputs": [
    {
     "name": "stdout",
     "output_type": "stream",
     "text": [
      "Division by zero is not allowed.\n",
      "This code always runs.\n"
     ]
    }
   ],
   "source": [
    "#e.g of Multiple except block\n",
    "try:\n",
    "    # Code that may raise exceptions\n",
    "    x = 10 /0\n",
    "except ZeroDivisionError:\n",
    "    # Handle ZeroDivisionError\n",
    "    print(\"Division by zero is not allowed.\")\n",
    "except ArithmeticError:\n",
    "    # Handle ArithmeticError (a broader category that includes ZeroDivisionError)\n",
    "    print(\"An arithmetic error occurred.\")\n",
    "except Exception as e:\n",
    "    # Handle any other exceptions not caught above\n",
    "    print(f\"An unexpected error occurred: {e}\")\n",
    "else:\n",
    "    # Code to execute if no exception occurred\n",
    "    print(\"No exceptions were raised.\")\n",
    "finally:\n",
    "    # Code to execute whether an exception occurred or not\n",
    "    print(\"This code always runs.\")\n"
   ]
  },
  {
   "cell_type": "markdown",
   "id": "759b2c5f",
   "metadata": {
    "id": "759b2c5f"
   },
   "source": [
    "## Explain Exception handling? What is an Error in Python?\n"
   ]
  },
  {
   "cell_type": "markdown",
   "id": "yVmygmf3NuyL",
   "metadata": {
    "id": "yVmygmf3NuyL"
   },
   "source": [
    "**Ans. **Exception handling** is a fundamental programming concept that allows developers to manage and respond to unexpected or exceptional situations that can occur during the execution of a program"
   ]
  },
  {
   "cell_type": "markdown",
   "id": "sPE3EtdDN6jc",
   "metadata": {
    "id": "sPE3EtdDN6jc"
   },
   "source": [
    "**Ans.** In Python, an **\"error\"** typically refers to an exceptional condition or situation that disrupts the normal flow of a program and can lead to unintended consequences, such as program termination or incorrect results\n",
    "Errors in Python are categorized into three main types:\n",
    "1. Syntax error\n",
    "2. Runtime error\n",
    "3. Semantic error"
   ]
  },
  {
   "cell_type": "markdown",
   "id": "503ae851",
   "metadata": {
    "id": "503ae851"
   },
   "source": [
    "## Write a Python program to count the number of lines in a text file."
   ]
  },
  {
   "cell_type": "code",
   "execution_count": 37,
   "id": "9b708d8d",
   "metadata": {
    "colab": {
     "base_uri": "https://localhost:8080/"
    },
    "executionInfo": {
     "elapsed": 432,
     "status": "ok",
     "timestamp": 1696940736167,
     "user": {
      "displayName": "Abhishek Jaiswal",
      "userId": "11917054125403500197"
     },
     "user_tz": -330
    },
    "id": "9b708d8d",
    "outputId": "075ddd43-e33c-42c3-9bb7-e732dd59c0e6"
   },
   "outputs": [
    {
     "name": "stdout",
     "output_type": "stream",
     "text": [
      "The file 'myfile.txt' contains 4 lines.\n"
     ]
    }
   ],
   "source": [
    "def count_lines(file_name):\n",
    "    try:\n",
    "        with open(file_name, 'r') as file:\n",
    "            line_count = sum(1 for line in file)\n",
    "        return line_count\n",
    "    except FileNotFoundError:\n",
    "        print(f\"Error: The file '{file_name}' was not found.\")\n",
    "        return 0  # Return 0 lines in case of a file not found\n",
    "    except Exception as e:\n",
    "        print(f\"An error occurred: {e}\")\n",
    "        return 0  # Return 0 lines in case of an error\n",
    "\n",
    "\n",
    "file_name = 'myfile.txt'\n",
    "lines = count_lines(file_name)\n",
    "\n",
    "if lines > 0:\n",
    "    print(f\"The file '{file_name}' contains {lines} lines.\")\n",
    "else:\n",
    "    print(f\"The file '{file_name}' is empty or does not exist.\")\n"
   ]
  },
  {
   "cell_type": "markdown",
   "id": "7dd706b2",
   "metadata": {
    "id": "7dd706b2"
   },
   "source": [
    "## Write a Python program to write a list to a file."
   ]
  },
  {
   "cell_type": "code",
   "execution_count": 38,
   "id": "051thHfHQuf1",
   "metadata": {
    "colab": {
     "base_uri": "https://localhost:8080/"
    },
    "executionInfo": {
     "elapsed": 15,
     "status": "ok",
     "timestamp": 1696940741757,
     "user": {
      "displayName": "Abhishek Jaiswal",
      "userId": "11917054125403500197"
     },
     "user_tz": -330
    },
    "id": "051thHfHQuf1",
    "outputId": "661ccc52-eafc-4a92-b5dc-9fca5dd1a2ad"
   },
   "outputs": [
    {
     "name": "stdout",
     "output_type": "stream",
     "text": [
      "List written to 'myfile.txt' successfully.\n"
     ]
    }
   ],
   "source": [
    "def write_list_to_file(file_name, input_list):\n",
    "    try:\n",
    "        with open(file_name, 'w') as file:\n",
    "            for item in input_list:\n",
    "                file.write(str(item) + '\\n')  # Write each item followed by a newline\n",
    "        print(f\"List written to '{file_name}' successfully.\")\n",
    "    except Exception as e:\n",
    "        print(f\"An error occurred: {e}\")\n",
    "\n",
    "\n",
    "file_name = 'myfile.txt'\n",
    "my_list = [1, 2, 3, 4, 5,99,66]\n",
    "\n",
    "write_list_to_file(file_name, my_list)\n"
   ]
  },
  {
   "cell_type": "code",
   "execution_count": 39,
   "id": "u_mYkre6QyWz",
   "metadata": {
    "colab": {
     "base_uri": "https://localhost:8080/"
    },
    "executionInfo": {
     "elapsed": 595,
     "status": "ok",
     "timestamp": 1696940759833,
     "user": {
      "displayName": "Abhishek Jaiswal",
      "userId": "11917054125403500197"
     },
     "user_tz": -330
    },
    "id": "u_mYkre6QyWz",
    "outputId": "ef9f2df0-3401-492c-b091-7133b4b7e431"
   },
   "outputs": [
    {
     "name": "stdout",
     "output_type": "stream",
     "text": [
      "1\n",
      "2\n",
      "3\n",
      "4\n",
      "5\n",
      "99\n",
      "66\n",
      "\n"
     ]
    }
   ],
   "source": [
    "with open(\"myfile.txt\",\"r\") as file:\n",
    "  file_contents=file.read()\n",
    "print(file_contents)"
   ]
  },
  {
   "cell_type": "markdown",
   "id": "452eb320",
   "metadata": {
    "id": "452eb320"
   },
   "source": [
    "# Explain Inheritance in Python with an example?What is init? Or What Is A Constructor In Python?\n",
    "\n"
   ]
  },
  {
   "cell_type": "markdown",
   "id": "c585P89ym2XH",
   "metadata": {
    "id": "c585P89ym2XH"
   },
   "source": [
    "**Ans.** Inheritance in Python allows you to create a new class (the derived or child class) that inherits attributes and methods from an existing class (parent class). Here's an example of inheritance in Python:"
   ]
  },
  {
   "cell_type": "code",
   "execution_count": 40,
   "id": "7GvknSVcnY_c",
   "metadata": {
    "colab": {
     "base_uri": "https://localhost:8080/"
    },
    "executionInfo": {
     "elapsed": 455,
     "status": "ok",
     "timestamp": 1696940767912,
     "user": {
      "displayName": "Abhishek Jaiswal",
      "userId": "11917054125403500197"
     },
     "user_tz": -330
    },
    "id": "7GvknSVcnY_c",
    "outputId": "13df1d3e-c2d5-4892-d611-9061f1541c1a"
   },
   "outputs": [
    {
     "name": "stdout",
     "output_type": "stream",
     "text": [
      "Sheru is a Dog of breed Golden Retriever. It says 'Woof!'\n",
      "Kitty is a Cat with Gray fur. It says 'Meow!'\n"
     ]
    }
   ],
   "source": [
    "# Parent class\n",
    "class Animal:\n",
    "    def __init__(self, name, species):\n",
    "        self.name = name\n",
    "        self.species = species\n",
    "\n",
    "    def make_sound(self):\n",
    "        pass\n",
    "\n",
    "# Child class\n",
    "class Dog(Animal):\n",
    "    def __init__(self, name, breed):\n",
    "        # Call the constructor of the parent class using super()\n",
    "        super().__init__(name, species=\"Dog\")\n",
    "        self.breed = breed\n",
    "\n",
    "    def make_sound(self):\n",
    "        return \"Woof!\"\n",
    "\n",
    "# Child class\n",
    "class Cat(Animal):\n",
    "    def __init__(self, name, color):\n",
    "        # Call the constructor of the parent class using super()\n",
    "        super().__init__(name, species=\"Cat\")\n",
    "        self.color = color\n",
    "\n",
    "    def make_sound(self):\n",
    "        return \"Meow!\"\n",
    "\n",
    "dog = Dog(\"Sheru\", \"Golden Retriever\")\n",
    "cat = Cat(\"Kitty\", \"Gray\")\n",
    "\n",
    "# Access attributes and methods of the objects\n",
    "print(f\"{dog.name} is a {dog.species} of breed {dog.breed}. It says '{dog.make_sound()}'\")\n",
    "print(f\"{cat.name} is a {cat.species} with {cat.color} fur. It says '{cat.make_sound()}'\")\n"
   ]
  },
  {
   "cell_type": "markdown",
   "id": "mQqs903In_BC",
   "metadata": {
    "id": "mQqs903In_BC"
   },
   "source": [
    "\n",
    "**In Python, __init__ is a special method, also known as a constructor.** It is used to initialize the attributes (properties) of an object when an instance of a class is created. The __init__ method is called automatically when you create a new object of a class"
   ]
  },
  {
   "cell_type": "markdown",
   "id": "a498a822",
   "metadata": {
    "id": "a498a822"
   },
   "source": [
    "# Write a python program to find the longest words."
   ]
  },
  {
   "cell_type": "code",
   "execution_count": 41,
   "id": "efbdc1ae",
   "metadata": {
    "colab": {
     "base_uri": "https://localhost:8080/"
    },
    "executionInfo": {
     "elapsed": 25491,
     "status": "ok",
     "timestamp": 1696940798899,
     "user": {
      "displayName": "Abhishek Jaiswal",
      "userId": "11917054125403500197"
     },
     "user_tz": -330
    },
    "id": "efbdc1ae",
    "outputId": "3ff5d0be-e228-415b-ce28-bf9ef7cb3951"
   },
   "outputs": [
    {
     "name": "stdout",
     "output_type": "stream",
     "text": [
      "Check by entering your Text : Python is a powerful and versatile programming language, and Python programmers are skilled developers\n",
      "Longest words in the text:\n",
      "programming\n",
      "programmers\n"
     ]
    }
   ],
   "source": [
    "def find_longest_words(text):\n",
    "    # Split the text into words\n",
    "    words = text.split()\n",
    "\n",
    "    # Initialize variables to keep track of the longest words\n",
    "    longest_words = []\n",
    "    max_length = 0\n",
    "\n",
    "    # Iterate through the words\n",
    "    for word in words:\n",
    "        # Calculate the length of the current word\n",
    "        word_length = len(word)\n",
    "\n",
    "        # If the current word is longer than the previously found longest words,\n",
    "        # update the list of longest words and the maximum length\n",
    "        if word_length > max_length:\n",
    "            longest_words = [word]\n",
    "            max_length = word_length\n",
    "        elif word_length == max_length:\n",
    "            # If the current word has the same length as the longest words found so far,\n",
    "            # append it to the list\n",
    "            longest_words.append(word)\n",
    "\n",
    "    return longest_words\n",
    "\n",
    "# Input text\n",
    "Sample_text = \"Python is a powerful and versatile programming language, and Python programmers are skilled developers.\"\n",
    "input_text = str(input(\"Check by entering your Text : \"))\n",
    "\n",
    "# Find the longest words in the input text\n",
    "longest_words = find_longest_words(input_text)\n",
    "\n",
    "# Print the longest words\n",
    "if longest_words:\n",
    "    print(\"Longest words in the text:\")\n",
    "    for word in longest_words:\n",
    "        print(word)\n",
    "else:\n",
    "    print(\"No words found in the text.\")\n"
   ]
  },
  {
   "cell_type": "markdown",
   "id": "cbbc881b",
   "metadata": {
    "id": "cbbc881b"
   },
   "source": [
    "# How to Define a Class in Python? What Is Self? Give An Example Of A Python Class\n",
    ".\n"
   ]
  },
  {
   "cell_type": "markdown",
   "id": "-6eZNwScWEa_",
   "metadata": {
    "id": "-6eZNwScWEa_"
   },
   "source": [
    "\n",
    "**Ans.** In Python, you can define a class using the **class** keyword followed by the name of the class. Here's the basic syntax for defining a class\n",
    "\n"
   ]
  },
  {
   "cell_type": "code",
   "execution_count": 42,
   "id": "2576eaf5",
   "metadata": {
    "executionInfo": {
     "elapsed": 475,
     "status": "ok",
     "timestamp": 1696940808722,
     "user": {
      "displayName": "Abhishek Jaiswal",
      "userId": "11917054125403500197"
     },
     "user_tz": -330
    },
    "id": "2576eaf5"
   },
   "outputs": [],
   "source": [
    "class ClassName:\n",
    "    class_attribute = \"I am a class attribute\""
   ]
  },
  {
   "cell_type": "markdown",
   "id": "4wh1mzLNWdBk",
   "metadata": {
    "id": "4wh1mzLNWdBk"
   },
   "source": [
    "In Python, **self** is a conventionally used name for the first parameter of instance methods in a class. It refers to the instance of the class itself. When you define a method within a class and include self as the first parameter, you are essentially telling Python that this method is associated with instances of the class, and it can access and manipulate the attributes and methods of those instances."
   ]
  },
  {
   "cell_type": "code",
   "execution_count": null,
   "id": "sR4ZTMD3W183",
   "metadata": {
    "colab": {
     "base_uri": "https://localhost:8080/"
    },
    "executionInfo": {
     "elapsed": 721,
     "status": "ok",
     "timestamp": 1696934234728,
     "user": {
      "displayName": "Abhishek Jaiswal",
      "userId": "11917054125403500197"
     },
     "user_tz": -330
    },
    "id": "sR4ZTMD3W183",
    "outputId": "d70a97e3-33e0-4269-d840-00bc34f789e5"
   },
   "outputs": [
    {
     "name": "stdout",
     "output_type": "stream",
     "text": [
      "Sheru is a Dog of breed Golden Retriever. It says 'Woof!'\n",
      "Kitty is a Cat with Gray fur. It says 'Meow!'\n"
     ]
    }
   ],
   "source": [
    "# Parent class\n",
    "class Animal:\n",
    "    def __init__(self, name, species):\n",
    "        self.name = name\n",
    "        self.species = species\n",
    "\n",
    "    def make_sound(self):\n",
    "        pass\n",
    "\n",
    "# Child class\n",
    "class Dog(Animal):\n",
    "    def __init__(self, name, breed):\n",
    "        # Call the constructor of the parent class using super()\n",
    "        super().__init__(name, species=\"Dog\")\n",
    "        self.breed = breed\n",
    "\n",
    "    def make_sound(self):\n",
    "        return \"Woof!\"\n",
    "\n",
    "# Child class\n",
    "class Cat(Animal):\n",
    "    def __init__(self, name, color):\n",
    "        # Call the constructor of the parent class using super()\n",
    "        super().__init__(name, species=\"Cat\")\n",
    "        self.color = color\n",
    "\n",
    "    def make_sound(self):\n",
    "        return \"Meow!\"\n",
    "\n",
    "dog = Dog(\"Sheru\", \"Golden Retriever\")\n",
    "cat = Cat(\"Kitty\", \"Gray\")\n",
    "\n",
    "# Access attributes and methods of the objects\n",
    "print(f\"{dog.name} is a {dog.species} of breed {dog.breed}. It says '{dog.make_sound()}'\")\n",
    "print(f\"{cat.name} is a {cat.species} with {cat.color} fur. It says '{cat.make_sound()}'\")\n"
   ]
  },
  {
   "cell_type": "markdown",
   "id": "f856028b",
   "metadata": {
    "id": "f856028b"
   },
   "source": [
    "# Write a Python class named Rectangle constructed by a length and width and a method which will compute the area of a rectangle"
   ]
  },
  {
   "cell_type": "code",
   "execution_count": 43,
   "id": "509ca5ef",
   "metadata": {
    "colab": {
     "base_uri": "https://localhost:8080/"
    },
    "executionInfo": {
     "elapsed": 5182,
     "status": "ok",
     "timestamp": 1696940822163,
     "user": {
      "displayName": "Abhishek Jaiswal",
      "userId": "11917054125403500197"
     },
     "user_tz": -330
    },
    "id": "509ca5ef",
    "outputId": "f987aead-b509-4980-fb80-723c1887e86b"
   },
   "outputs": [
    {
     "name": "stdout",
     "output_type": "stream",
     "text": [
      "Enter Length of rectangle: 5\n",
      "Enter width of rectangle: 6\n",
      "The area of the rectangle is 30 square units.\n"
     ]
    }
   ],
   "source": [
    "class Rectangle:\n",
    "    def __init__(self, length, width):\n",
    "        self.length = length\n",
    "        self.width = width\n",
    "\n",
    "    def compute_area(self):\n",
    "        return self.length * self.width\n",
    "\n",
    "length = int(input(\"Enter Length of rectangle: \"))\n",
    "width = int(input(\"Enter width of rectangle: \"))\n",
    "my_rectangle = Rectangle(length, width)\n",
    "area = my_rectangle.compute_area()\n",
    "print(f\"The area of the rectangle is {area} square units.\")\n"
   ]
  },
  {
   "cell_type": "markdown",
   "id": "e627277a",
   "metadata": {
    "id": "e627277a"
   },
   "source": [
    "## Explain Exception handling? What is an Error in Python?"
   ]
  },
  {
   "cell_type": "markdown",
   "id": "5aeYvTLVtemU",
   "metadata": {
    "id": "5aeYvTLVtemU"
   },
   "source": [
    "\n",
    "**Ans.** Exception handling is a fundamental concept in programming that allows developers to gracefully manage and respond to unexpected or exceptional situations, often referred to as \"exceptions\" or \"errors,\" that can occur during the execution of a program. These exceptional situations can include things like division by zero, file not found, network errors, and many other unexpected scenarios that can disrupt the normal flow of a program."
   ]
  },
  {
   "cell_type": "markdown",
   "id": "S5tg1gxluZN8",
   "metadata": {
    "id": "S5tg1gxluZN8"
   },
   "source": [
    "**Ans.** In Python, an \"error\" generally refers to an issue that occurs during the execution of a program, disrupting its normal flow and potentially causing it to terminate prematurely. Errors in Python are typically classified into three main categories:\n",
    "1. Syntax error\n",
    "2. Runtime error\n",
    "3. Semantic error"
   ]
  },
  {
   "cell_type": "code",
   "execution_count": null,
   "id": "f64d868d",
   "metadata": {
    "colab": {
     "base_uri": "https://localhost:8080/",
     "height": 140
    },
    "executionInfo": {
     "elapsed": 31,
     "status": "error",
     "timestamp": 1696933663000,
     "user": {
      "displayName": "Abhishek Jaiswal",
      "userId": "11917054125403500197"
     },
     "user_tz": -330
    },
    "id": "f64d868d",
    "outputId": "0ace010b-17de-4204-850f-dda4b3b74b5a"
   },
   "outputs": [
    {
     "ename": "SyntaxError",
     "evalue": "ignored",
     "output_type": "error",
     "traceback": [
      "\u001b[0;36m  File \u001b[0;32m\"<ipython-input-78-ba80d5703d0b>\"\u001b[0;36m, line \u001b[0;32m1\u001b[0m\n\u001b[0;31m    if x > 10  # Missing colon\u001b[0m\n\u001b[0m               ^\u001b[0m\n\u001b[0;31mSyntaxError\u001b[0m\u001b[0;31m:\u001b[0m expected ':'\n"
     ]
    }
   ],
   "source": [
    "if x > 10  # Missing colon\n",
    "    print(\"x is greater than 10\")"
   ]
  },
  {
   "cell_type": "code",
   "execution_count": null,
   "id": "cKMEUjWGvGUk",
   "metadata": {
    "colab": {
     "base_uri": "https://localhost:8080/",
     "height": 210
    },
    "executionInfo": {
     "elapsed": 543,
     "status": "error",
     "timestamp": 1696933680518,
     "user": {
      "displayName": "Abhishek Jaiswal",
      "userId": "11917054125403500197"
     },
     "user_tz": -330
    },
    "id": "cKMEUjWGvGUk",
    "outputId": "ffbe4a95-a0aa-45d1-f693-f4f1867c0f06"
   },
   "outputs": [
    {
     "ename": "ZeroDivisionError",
     "evalue": "ignored",
     "output_type": "error",
     "traceback": [
      "\u001b[0;31m---------------------------------------------------------------------------\u001b[0m",
      "\u001b[0;31mZeroDivisionError\u001b[0m                         Traceback (most recent call last)",
      "\u001b[0;32m<ipython-input-79-7982d9fc4fc2>\u001b[0m in \u001b[0;36m<cell line: 3>\u001b[0;34m()\u001b[0m\n\u001b[1;32m      1\u001b[0m \u001b[0;31m#Runtime error\u001b[0m\u001b[0;34m\u001b[0m\u001b[0;34m\u001b[0m\u001b[0m\n\u001b[1;32m      2\u001b[0m \u001b[0mx\u001b[0m \u001b[0;34m=\u001b[0m \u001b[0;36m0\u001b[0m\u001b[0;34m\u001b[0m\u001b[0;34m\u001b[0m\u001b[0m\n\u001b[0;32m----> 3\u001b[0;31m \u001b[0my\u001b[0m \u001b[0;34m=\u001b[0m \u001b[0;36m10\u001b[0m \u001b[0;34m/\u001b[0m \u001b[0mx\u001b[0m  \u001b[0;31m# Division by zero will raise a ZeroDivisionError\u001b[0m\u001b[0;34m\u001b[0m\u001b[0;34m\u001b[0m\u001b[0m\n\u001b[0m",
      "\u001b[0;31mZeroDivisionError\u001b[0m: division by zero"
     ]
    }
   ],
   "source": [
    "#Runtime error\n",
    "x = 0\n",
    "y = 10 / x  # Division by zero will raise a ZeroDivisionError"
   ]
  },
  {
   "cell_type": "code",
   "execution_count": null,
   "id": "I2HXH6qZvJy_",
   "metadata": {
    "id": "I2HXH6qZvJy_"
   },
   "outputs": [],
   "source": [
    "x = 5\n",
    "y = 10\n",
    "result = x + y * 2\n",
    "# The intended result might be (5 + 10) * 2 = 30,\n",
    "# but the code actually computes (5 + (10 * 2)) = 25.\n"
   ]
  },
  {
   "cell_type": "code",
   "execution_count": null,
   "id": "rsryuxbHIwX-",
   "metadata": {
    "colab": {
     "base_uri": "https://localhost:8080/"
    },
    "executionInfo": {
     "elapsed": 669,
     "status": "ok",
     "timestamp": 1696933816897,
     "user": {
      "displayName": "Abhishek Jaiswal",
      "userId": "11917054125403500197"
     },
     "user_tz": -330
    },
    "id": "rsryuxbHIwX-",
    "outputId": "1de885d2-573f-4fdf-a40a-981ca0fce98e"
   },
   "outputs": [
    {
     "data": {
      "text/plain": [
       "25"
      ]
     },
     "execution_count": 82,
     "metadata": {},
     "output_type": "execute_result"
    }
   ],
   "source": [
    "result"
   ]
  },
  {
   "cell_type": "markdown",
   "id": "bed33f31",
   "metadata": {
    "id": "bed33f31"
   },
   "source": [
    "## How many except statements can a try-except block have? Name Some built-in exception classes:"
   ]
  },
  {
   "cell_type": "markdown",
   "id": "TRd4rYnJwfGN",
   "metadata": {
    "id": "TRd4rYnJwfGN"
   },
   "source": [
    "**Ans.** In a try-except block in Python, you can have one try block followed by one or more except blocks to handle different types of exceptions. There is no strict limit to the number of except blocks you can have, so you can handle as many exceptions as necessary within the same try block."
   ]
  },
  {
   "cell_type": "markdown",
   "id": "ByC6H0-axl03",
   "metadata": {
    "id": "ByC6H0-axl03"
   },
   "source": [
    "1. SyntaxError: Raised when there is a syntax error in the code.\n",
    "\n",
    "2. IndentationError: Raised when there is an issue with the indentation of the code (e.g., inconsistent use of tabs and spaces).\n",
    "\n",
    "3. NameError: Raised when a local or global name is not found.\n",
    "\n",
    "4. TypeError: Raised when an operation is performed on an object of an inappropriate type.\n",
    "\n",
    "5. ValueError: Raised when a function receives an argument of the correct type but with an inappropriate value.\n",
    "\n",
    "6. ZeroDivisionError: Raised when attempting to divide by zero.\n",
    "\n",
    "7. IndexError: Raised when trying to access an index that is out of range for a sequence (e.g., list, tuple, or string).\n",
    "\n",
    "8. KeyError: Raised when trying to access a dictionary key that does not exist.\n",
    "\n",
    "9. FileNotFoundError: Raised when trying to open a file that does not exist.\n",
    "\n",
    "10. IOError: Raised for various input/output-related issues.\n",
    "\n",
    "11. AttributeError: Raised when trying to access an attribute or method that does not exist on an object.\n",
    "\n",
    "12. ImportError: Raised when an imported module cannot be found or loaded.\n",
    "\n",
    "13. ModuleNotFoundError: A specific subclass of ImportError raised when a module cannot be found.\n",
    "\n",
    "14. AssertionError: Raised when an assert statement fails.\n",
    "\n",
    "15. TypeError: Raised when an operation or function is applied to an object of inappropriate type.\n",
    "\n",
    "16. EOFError: Raised when trying to read beyond the end of a file.\n",
    "\n",
    "17. KeyboardInterrupt: Raised when the user interrupts the execution of a program, typically by pressing Ctrl+C.\n",
    "\n",
    "18. ArithmeticError: A base class for arithmetic errors like ZeroDivisionError and OverflowError.\n",
    "\n",
    "19. OSError: A base class for various operating system-related errors.\n",
    "\n",
    "20. Exception: The base class for all built-in exceptions in Python."
   ]
  },
  {
   "cell_type": "markdown",
   "id": "9d89a755",
   "metadata": {
    "id": "9d89a755"
   },
   "source": [
    "## Write python program that user to enter only odd numbers, else will raise an exception."
   ]
  },
  {
   "cell_type": "code",
   "execution_count": 45,
   "id": "fb017904",
   "metadata": {
    "colab": {
     "base_uri": "https://localhost:8080/"
    },
    "executionInfo": {
     "elapsed": 4112,
     "status": "ok",
     "timestamp": 1696940900742,
     "user": {
      "displayName": "Abhishek Jaiswal",
      "userId": "11917054125403500197"
     },
     "user_tz": -330
    },
    "id": "fb017904",
    "outputId": "65c0aa7f-f996-447a-c1fe-8fd6835ee83c"
   },
   "outputs": [
    {
     "name": "stdout",
     "output_type": "stream",
     "text": [
      "Enter an odd number: 8\n",
      "Even numbers are not allowed. Please enter an odd number.\n",
      "Enter an odd number: 7\n",
      "You entered an odd number: 7\n"
     ]
    }
   ],
   "source": [
    "def get_odd_number():\n",
    "    while True:\n",
    "        try:\n",
    "            number = int(input(\"Enter an odd number: \"))\n",
    "            if number % 2 == 0:\n",
    "                raise ValueError(\"Even numbers are not allowed. Please enter an odd number.\")\n",
    "            return number\n",
    "        except ValueError as e:\n",
    "            print(e)\n",
    "\n",
    "try:\n",
    "    odd_number = get_odd_number()\n",
    "    print(f\"You entered an odd number: {odd_number}\")\n",
    "except KeyboardInterrupt:\n",
    "    print(\"\\nProgram terminated by user.\")\n"
   ]
  },
  {
   "cell_type": "markdown",
   "id": "e8497bda",
   "metadata": {
    "id": "e8497bda"
   },
   "source": [
    "## Write a Python class named Circle constructed by a radius and two methods which will compute the area and the perimeter of a circle"
   ]
  },
  {
   "cell_type": "code",
   "execution_count": 46,
   "id": "2a6c509d",
   "metadata": {
    "colab": {
     "base_uri": "https://localhost:8080/"
    },
    "executionInfo": {
     "elapsed": 4327,
     "status": "ok",
     "timestamp": 1696940917200,
     "user": {
      "displayName": "Abhishek Jaiswal",
      "userId": "11917054125403500197"
     },
     "user_tz": -330
    },
    "id": "2a6c509d",
    "outputId": "08164a88-2b02-4e32-91fb-69de6d46d5db"
   },
   "outputs": [
    {
     "name": "stdout",
     "output_type": "stream",
     "text": [
      "Enter radius value: 5\n",
      "Radius: 5\n",
      "Area of Circle: 78.53981633974483\n",
      "Perimeter of Circle: 31.41592653589793\n"
     ]
    }
   ],
   "source": [
    "import math\n",
    "class Circle:\n",
    "    def __init__(self, radius):\n",
    "        self.radius = radius\n",
    "\n",
    "    def area(self):\n",
    "        \"\"\"\n",
    "        Compute the area of the circle.\n",
    "        Formula: pi * radius^2\n",
    "        \"\"\"\n",
    "        return math.pi * self.radius ** 2\n",
    "\n",
    "    def perimeter(self):\n",
    "        \"\"\"\n",
    "        Compute the perimeter (circumference) of the circle.\n",
    "        Formula: 2 * pi * radius\n",
    "        \"\"\"\n",
    "        return 2 * math.pi * self.radius\n",
    "\n",
    "radius = int(input(\"Enter radius value: \"))\n",
    "circle = Circle(radius)\n",
    "print(\"Radius:\", circle.radius)\n",
    "print(\"Area of Circle:\", circle.area())\n",
    "print(\"Perimeter of Circle:\", circle.perimeter())\n"
   ]
  },
  {
   "cell_type": "markdown",
   "id": "fc384afd",
   "metadata": {
    "id": "fc384afd"
   },
   "source": [
    "## Explain Inheritance in Python with an example? What is init? Or What Is A Constructor In Python?"
   ]
  },
  {
   "cell_type": "markdown",
   "id": "dRFr-rae0obt",
   "metadata": {
    "id": "dRFr-rae0obt"
   },
   "source": [
    "Ans.**Inheritance** is a fundamental concept in object-oriented programming (OOP) that allows you to create a new class (called a derived or child class) by inheriting the properties and methods of an existing class (called a base or parent class). This allows you to model a hierarchy of classes where child classes can reuse and extend the functionality of their parent classes."
   ]
  },
  {
   "cell_type": "code",
   "execution_count": 47,
   "id": "6TynyrYIJ-bO",
   "metadata": {
    "colab": {
     "base_uri": "https://localhost:8080/"
    },
    "executionInfo": {
     "elapsed": 455,
     "status": "ok",
     "timestamp": 1696940924935,
     "user": {
      "displayName": "Abhishek Jaiswal",
      "userId": "11917054125403500197"
     },
     "user_tz": -330
    },
    "id": "6TynyrYIJ-bO",
    "outputId": "594604b6-bd8a-4983-b820-26d7b32da28f"
   },
   "outputs": [
    {
     "name": "stdout",
     "output_type": "stream",
     "text": [
      "Sheru is a Dog of breed Golden Retriever. It says 'Woof!'\n",
      "Kitty is a Cat with Gray fur. It says 'Meow!'\n"
     ]
    }
   ],
   "source": [
    "# Parent class\n",
    "class Animal:\n",
    "    def __init__(self, name, species):\n",
    "        self.name = name\n",
    "        self.species = species\n",
    "\n",
    "    def make_sound(self):\n",
    "        pass\n",
    "\n",
    "# Child class\n",
    "class Dog(Animal):\n",
    "    def __init__(self, name, breed):\n",
    "        # Call the constructor of the parent class using super()\n",
    "        super().__init__(name, species=\"Dog\")\n",
    "        self.breed = breed\n",
    "\n",
    "    def make_sound(self):\n",
    "        return \"Woof!\"\n",
    "\n",
    "# Child class\n",
    "class Cat(Animal):\n",
    "    def __init__(self, name, color):\n",
    "        # Call the constructor of the parent class using super()\n",
    "        super().__init__(name, species=\"Cat\")\n",
    "        self.color = color\n",
    "\n",
    "    def make_sound(self):\n",
    "        return \"Meow!\"\n",
    "\n",
    "dog = Dog(\"Sheru\", \"Golden Retriever\")\n",
    "cat = Cat(\"Kitty\", \"Gray\")\n",
    "\n",
    "# Access attributes and methods of the objects\n",
    "print(f\"{dog.name} is a {dog.species} of breed {dog.breed}. It says '{dog.make_sound()}'\")\n",
    "print(f\"{cat.name} is a {cat.species} with {cat.color} fur. It says '{cat.make_sound()}'\")\n"
   ]
  },
  {
   "cell_type": "markdown",
   "id": "D8djDgzd0vay",
   "metadata": {
    "id": "D8djDgzd0vay"
   },
   "source": [
    "\n",
    "Ans. In Python, __init__ is a special method, often referred to as a constructor, that is automatically called when you create an instance of a class. The primary purpose of the __init__ method is to initialize the attributes (or properties) of the object being created."
   ]
  },
  {
   "cell_type": "markdown",
   "id": "O8MGLAHo2Nui",
   "metadata": {
    "id": "O8MGLAHo2Nui"
   },
   "source": [
    "**init or Constructor**"
   ]
  },
  {
   "cell_type": "markdown",
   "id": "ca9350b1",
   "metadata": {
    "id": "ca9350b1"
   },
   "source": [
    "## What is Instantiation in terms of OOP terminology?\n",
    "\n"
   ]
  },
  {
   "cell_type": "markdown",
   "id": "w64FQDke3GTD",
   "metadata": {
    "id": "w64FQDke3GTD"
   },
   "source": [
    "**Ans.** In object-oriented programming (OOP), \"instantiation\" refers to the process of creating an instance or object of a class. When you instantiate a class, you create a specific instance of that class with its own unique set of attributes and methods.\n",
    "These instances are often referred to as objects."
   ]
  },
  {
   "cell_type": "markdown",
   "id": "SckJ-kZP4IE9",
   "metadata": {
    "id": "SckJ-kZP4IE9"
   },
   "source": [
    "Here are the key points to understand about instantiation in OOP terminology:"
   ]
  },
  {
   "cell_type": "markdown",
   "id": "0b_yQsBI5Cge",
   "metadata": {
    "id": "0b_yQsBI5Cge"
   },
   "source": [
    "1. Class Definition\n",
    "2. Object Creation\n",
    "3. Instance Variables\n",
    "4. Methods:\n",
    "Here's a simple example in Python:"
   ]
  },
  {
   "cell_type": "code",
   "execution_count": null,
   "id": "5d864c6e",
   "metadata": {
    "colab": {
     "base_uri": "https://localhost:8080/"
    },
    "executionInfo": {
     "elapsed": 11,
     "status": "ok",
     "timestamp": 1696934561012,
     "user": {
      "displayName": "Abhishek Jaiswal",
      "userId": "11917054125403500197"
     },
     "user_tz": -330
    },
    "id": "5d864c6e",
    "outputId": "94db48d0-81d4-4997-8795-58fd2e408b11"
   },
   "outputs": [
    {
     "name": "stdout",
     "output_type": "stream",
     "text": [
      "Rocky\n",
      "5\n",
      "Rocky says Woof!\n"
     ]
    }
   ],
   "source": [
    "class Dog:\n",
    "    def __init__(self, name, age):\n",
    "        self.name = name\n",
    "        self.age = age\n",
    "\n",
    "    def bark(self):\n",
    "        return f\"{self.name} says Woof!\"\n",
    "\n",
    "# Instantiating two Dog objects\n",
    "dog1 = Dog(\"Rocky\", 3)\n",
    "dog2 = Dog(\"Rex\", 5)\n",
    "\n",
    "# Accessing instance variables\n",
    "print(dog1.name)\n",
    "print(dog2.age)\n",
    "\n",
    "# Calling a method on objects\n",
    "print(dog1.bark())\n"
   ]
  },
  {
   "cell_type": "code",
   "execution_count": null,
   "id": "59d11a69",
   "metadata": {
    "id": "59d11a69"
   },
   "outputs": [],
   "source": []
  }
 ],
 "metadata": {
  "colab": {
   "provenance": []
  },
  "kernelspec": {
   "display_name": "Python 3 (ipykernel)",
   "language": "python",
   "name": "python3"
  },
  "language_info": {
   "codemirror_mode": {
    "name": "ipython",
    "version": 3
   },
   "file_extension": ".py",
   "mimetype": "text/x-python",
   "name": "python",
   "nbconvert_exporter": "python",
   "pygments_lexer": "ipython3",
   "version": "3.11.4"
  },
  "vscode": {
   "interpreter": {
    "hash": "2043299c89c8cd0b4d1a6f5cf4529bd58e6a4e0fe3181a25e0d328c821cdc5c5"
   }
  }
 },
 "nbformat": 4,
 "nbformat_minor": 5
}
