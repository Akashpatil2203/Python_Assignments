{
 "cells": [
  {
   "cell_type": "markdown",
   "id": "8d7ab3bd",
   "metadata": {},
   "source": [
    "# Python Assignment - 2\n",
    "### Total - 30 marks"
   ]
  },
  {
   "cell_type": "markdown",
   "id": "6984940a",
   "metadata": {},
   "source": [
    "#### 1. Create a list of student and their subjects and then print the count of the subjects each student is having."
   ]
  },
  {
   "cell_type": "markdown",
   "id": "2167cbb2",
   "metadata": {},
   "source": [
    "Ex: List should be of the this format \n",
    " [('Justin', ['Math', 'CompSci']),\n",
    " ('Eden', ['CompSci', 'Accounting', 'Economics'])]\n",
    " \n",
    " and the output be like,\n",
    " \n",
    "Justin takes 2 subjects\n",
    "Eden takes 3 subjects"
   ]
  },
  {
   "cell_type": "code",
   "execution_count": 6,
   "id": "c7115c59",
   "metadata": {},
   "outputs": [
    {
     "name": "stdout",
     "output_type": "stream",
     "text": [
      "Akash takes 3 Subjects.\n",
      "Rohit takes 2 Subjects.\n"
     ]
    }
   ],
   "source": [
    "# You can Code here for the above problem:\n",
    "student_subject=[('Akash',['English','Maths','Physics']),('Rohit',['History','Maths'])]\n",
    "\n",
    "for student,subjects in student_subject:\n",
    "    subject_count=len(subjects)\n",
    "    print(f\"{student} takes {subject_count} Subjects.\")"
   ]
  },
  {
   "cell_type": "markdown",
   "id": "44bb9ea8",
   "metadata": {},
   "source": [
    "#### 2. Count the total number of digits in a number (ex: A mobile number)"
   ]
  },
  {
   "cell_type": "markdown",
   "id": "1d2ab3cb",
   "metadata": {},
   "source": [
    "Ex:\n",
    "number be like some random mobile number,\n",
    "\n",
    "9848000000\n",
    "\n",
    "the count of the this should be 10"
   ]
  },
  {
   "cell_type": "code",
   "execution_count": 11,
   "id": "747e9a6d",
   "metadata": {},
   "outputs": [
    {
     "name": "stdout",
     "output_type": "stream",
     "text": [
      "10\n"
     ]
    }
   ],
   "source": [
    "# You can Code here for the above problem:\n",
    "mobile_number=9404000000\n",
    "\n",
    "mobile_number_str=str(mobile_number)\n",
    "\n",
    "total_digits=len(mobile_number_str)\n",
    "\n",
    "print(f\"{total_digits}\")\n"
   ]
  },
  {
   "cell_type": "markdown",
   "id": "3502e833",
   "metadata": {},
   "source": [
    "#### 3. Create a for loop that prompts the user for a skill 3 times, then print the appended skills."
   ]
  },
  {
   "cell_type": "code",
   "execution_count": 12,
   "id": "dd835b29",
   "metadata": {},
   "outputs": [
    {
     "name": "stdout",
     "output_type": "stream",
     "text": [
      "Enter skill 1: Hard-Working\n",
      "Appended skills: ['Hard-Working']\n",
      "Enter skill 2: Multi-Tasking\n",
      "Appended skills: ['Hard-Working', 'Multi-Tasking']\n",
      "Enter skill 3: Good Learner\n",
      "Appended skills: ['Hard-Working', 'Multi-Tasking', 'Good Learner']\n"
     ]
    }
   ],
   "source": [
    "# You can Code here for the above problem:\n",
    "skills=[]\n",
    "\n",
    "for i in range(3):\n",
    "    skill=input(f\"Enter skill {i+1}: \")\n",
    "    skills.append(skill)\n",
    "    \n",
    "    print(\"Appended skills:\",skills)"
   ]
  },
  {
   "cell_type": "markdown",
   "id": "309395ff",
   "metadata": {},
   "source": [
    "#### 4. Define your commercial computation program with hourly rate for usual timings and extra for overtime. Create a function called commercials_calculator which takes two parameters (hours and rate).\n",
    "\n",
    "Enter Hours: 45\n",
    "\n",
    "Enter Rate: 10\n",
    "\n",
    "Pay: 475.0"
   ]
  },
  {
   "cell_type": "code",
   "execution_count": 28,
   "id": "fe142f76",
   "metadata": {},
   "outputs": [
    {
     "name": "stdout",
     "output_type": "stream",
     "text": [
      "Enter hours: 45\n",
      "Enter rate: 10\n",
      "Pay: 475.0\n"
     ]
    }
   ],
   "source": [
    "# You can Code here for the above problem:\n",
    "def commercials_Calculator(hours, rate):\n",
    "    if hours <= 40:\n",
    "        pay = hours * rate\n",
    "    else:\n",
    "        regular_hours = 40\n",
    "        overtime_hours = hours - 40\n",
    "        regular_pay = regular_hours * rate\n",
    "        overtime_pay = overtime_hours * (rate * 1.5)\n",
    "        pay = regular_pay + overtime_pay\n",
    "    return pay\n",
    "\n",
    "# Get user input for hours and rate\n",
    "hours = float(input(\"Enter hours: \"))\n",
    "rate = float(input(\"Enter rate: \"))\n",
    "\n",
    "# Calculate and print the pay\n",
    "pay = commercials_Calculator(hours, rate)\n",
    "print(f\"Pay: {pay}\")"
   ]
  },
  {
   "cell_type": "code",
   "execution_count": null,
   "id": "169bcaa7",
   "metadata": {},
   "outputs": [],
   "source": []
  }
 ],
 "metadata": {
  "kernelspec": {
   "display_name": "Python 3 (ipykernel)",
   "language": "python",
   "name": "python3"
  },
  "language_info": {
   "codemirror_mode": {
    "name": "ipython",
    "version": 3
   },
   "file_extension": ".py",
   "mimetype": "text/x-python",
   "name": "python",
   "nbconvert_exporter": "python",
   "pygments_lexer": "ipython3",
   "version": "3.11.4"
  }
 },
 "nbformat": 4,
 "nbformat_minor": 5
}
