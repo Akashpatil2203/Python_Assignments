{
 "cells": [
  {
   "cell_type": "markdown",
   "id": "fb933f7e",
   "metadata": {},
   "source": [
    "# Python Assignment - 1\n",
    "#### Carries 30 marks"
   ]
  },
  {
   "cell_type": "markdown",
   "id": "b4896514",
   "metadata": {},
   "source": [
    "### Write a Python program to sum of three given integers. However, if two values are equal sum will be zero."
   ]
  },
  {
   "cell_type": "code",
   "execution_count": 1,
   "id": "230cee62",
   "metadata": {},
   "outputs": [
    {
     "name": "stdout",
     "output_type": "stream",
     "text": [
      "Enter the first integer: 1\n",
      "Enter the second integer: 2\n",
      "Enter the third integer: 2\n",
      "The sum is: 0\n"
     ]
    }
   ],
   "source": [
    "def sum_three_integers(a, b, c):\n",
    "    if a == b or b == c or a == c:\n",
    "        return 0\n",
    "    else:\n",
    "        return a + b + c\n",
    "\n",
    "num1 = int(input(\"Enter the first integer: \"))\n",
    "num2 = int(input(\"Enter the second integer: \"))\n",
    "num3 = int(input(\"Enter the third integer: \"))\n",
    "\n",
    "result = sum_three_integers(num1, num2, num3)\n",
    "print(\"The sum is:\", result)"
   ]
  },
  {
   "cell_type": "markdown",
   "id": "44498b23",
   "metadata": {},
   "source": [
    "### Write a Python program to test whether a passed letter is a vowel or not."
   ]
  },
  {
   "cell_type": "code",
   "execution_count": 2,
   "id": "5800a1e9",
   "metadata": {},
   "outputs": [
    {
     "name": "stdout",
     "output_type": "stream",
     "text": [
      "Enter a letter: A\n",
      "A is a vowel.\n"
     ]
    }
   ],
   "source": [
    "def is_vowel(letter):\n",
    "    vowels = \"AEIOUaeiou\"\n",
    "    return letter in vowels\n",
    "\n",
    "letter = input(\"Enter a letter: \")\n",
    "\n",
    "if len(letter) == 1 and letter.isalpha():\n",
    "    if is_vowel(letter):\n",
    "        print(f\"{letter} is a vowel.\")\n",
    "    else:\n",
    "        print(f\"{letter} is not a vowel.\")\n",
    "else:\n",
    "    print(\"Please enter a valid single letter.\")"
   ]
  },
  {
   "cell_type": "markdown",
   "id": "999e1c55",
   "metadata": {},
   "source": [
    "### Write python program that swap two number with temp variable and without temp variable."
   ]
  },
  {
   "cell_type": "code",
   "execution_count": 3,
   "id": "71b08ddf",
   "metadata": {},
   "outputs": [
    {
     "name": "stdout",
     "output_type": "stream",
     "text": [
      "After swapping (with temp variable):\n",
      "a = 10\n",
      "b = 5\n"
     ]
    }
   ],
   "source": [
    "a = 5\n",
    "b = 10\n",
    "\n",
    "temp = a\n",
    "a = b\n",
    "b = temp\n",
    "\n",
    "print(\"After swapping (with temp variable):\")\n",
    "print(\"a =\", a)\n",
    "print(\"b =\", b)"
   ]
  },
  {
   "cell_type": "code",
   "execution_count": 4,
   "id": "691d9862",
   "metadata": {},
   "outputs": [
    {
     "name": "stdout",
     "output_type": "stream",
     "text": [
      "After swapping (without temp variable):\n",
      "a = 10\n",
      "b = 5\n"
     ]
    }
   ],
   "source": [
    "a = 5\n",
    "b = 10\n",
    "\n",
    "a = a + b\n",
    "b = a - b\n",
    "a = a - b\n",
    "\n",
    "print(\"After swapping (without temp variable):\")\n",
    "print(\"a =\", a)\n",
    "print(\"b =\", b)"
   ]
  },
  {
   "cell_type": "markdown",
   "id": "d9805ba4",
   "metadata": {},
   "source": [
    "### Write a Python program to calculate the length of a string."
   ]
  },
  {
   "cell_type": "code",
   "execution_count": 5,
   "id": "df81befe",
   "metadata": {},
   "outputs": [
    {
     "name": "stdout",
     "output_type": "stream",
     "text": [
      "Enter a string: Akash\n",
      "Length of the string is: 5\n"
     ]
    }
   ],
   "source": [
    "input_string = input(\"Enter a string: \")\n",
    "\n",
    "length = len(input_string)\n",
    "print(\"Length of the string is:\", length)"
   ]
  },
  {
   "cell_type": "markdown",
   "id": "99144e41",
   "metadata": {},
   "source": [
    "### Write a Python program to find whether a given number is even or odd,print out an appropriate message to the user."
   ]
  },
  {
   "cell_type": "code",
   "execution_count": 6,
   "id": "dbbf15d7",
   "metadata": {},
   "outputs": [
    {
     "name": "stdout",
     "output_type": "stream",
     "text": [
      "Enter a number: 1\n",
      "1 is an odd number.\n"
     ]
    }
   ],
   "source": [
    "number = int(input(\"Enter a number: \"))\n",
    "\n",
    "if number % 2 == 0:\n",
    "    print(f\"{number} is an even number.\")\n",
    "else:\n",
    "    print(f\"{number} is an odd number.\")"
   ]
  },
  {
   "cell_type": "markdown",
   "id": "0a560977",
   "metadata": {},
   "source": [
    "### write a programme to find biggest number of given three values."
   ]
  },
  {
   "cell_type": "code",
   "execution_count": 7,
   "id": "4f3fa091",
   "metadata": {},
   "outputs": [
    {
     "name": "stdout",
     "output_type": "stream",
     "text": [
      "Enter the first number: 1\n",
      "Enter the second number: 2\n",
      "Enter the third number: 3\n",
      "The biggest number is: 3.0\n"
     ]
    }
   ],
   "source": [
    "num1 = float(input(\"Enter the first number: \"))\n",
    "num2 = float(input(\"Enter the second number: \"))\n",
    "num3 = float(input(\"Enter the third number: \"))\n",
    "\n",
    "maximum = max(num1, num2, num3)\n",
    "\n",
    "print(\"The biggest number is:\", maximum)"
   ]
  },
  {
   "cell_type": "markdown",
   "id": "5327a33b",
   "metadata": {},
   "source": [
    "### Write a Python program that will return true if the two given integer values are equal or their sum or difference is 5."
   ]
  },
  {
   "cell_type": "code",
   "execution_count": 8,
   "id": "1aa41bcc",
   "metadata": {},
   "outputs": [
    {
     "name": "stdout",
     "output_type": "stream",
     "text": [
      "Enter the first integer: 1\n",
      "Enter the second integer: 4\n",
      "The sum or difference of the two integers is 5.\n"
     ]
    }
   ],
   "source": [
    "num1 = int(input(\"Enter the first integer: \"))\n",
    "num2 = int(input(\"Enter the second integer: \"))\n",
    "\n",
    "if num1 == num2:\n",
    "    print(\"The two integers are equal.\")\n",
    "elif abs(num1 - num2) == 5 or num1 + num2 == 5:\n",
    "    print(\"The sum or difference of the two integers is 5.\")\n",
    "else:\n",
    "    print(\"The two integers are not equal, and their sum/difference is not 5.\")"
   ]
  },
  {
   "cell_type": "markdown",
   "id": "b1075328",
   "metadata": {},
   "source": [
    "### Write a python program to sum of the first n positive integers."
   ]
  },
  {
   "cell_type": "code",
   "execution_count": 9,
   "id": "5d474698",
   "metadata": {},
   "outputs": [
    {
     "name": "stdout",
     "output_type": "stream",
     "text": [
      "Enter a positive integer n: 4\n",
      "The sum of the first 4 positive integers is: 10\n"
     ]
    }
   ],
   "source": [
    "n = int(input(\"Enter a positive integer n: \"))\n",
    "\n",
    "sum_of_integers = (n * (n + 1)) // 2\n",
    "\n",
    "print(f\"The sum of the first {n} positive integers is:\", sum_of_integers)"
   ]
  },
  {
   "cell_type": "markdown",
   "id": "e480000b",
   "metadata": {},
   "source": [
    "### Write a Python program to calculate the length of a string."
   ]
  },
  {
   "cell_type": "code",
   "execution_count": 10,
   "id": "e154e64e",
   "metadata": {},
   "outputs": [
    {
     "name": "stdout",
     "output_type": "stream",
     "text": [
      "Enter a string: Assignment\n",
      "Length of the string is: 10\n"
     ]
    }
   ],
   "source": [
    "input_string = input(\"Enter a string: \")\n",
    "\n",
    "length = len(input_string)\n",
    "print(\"Length of the string is:\", length)"
   ]
  },
  {
   "cell_type": "markdown",
   "id": "83f1be28",
   "metadata": {},
   "source": [
    "### What is the purpose continue statement in python?"
   ]
  },
  {
   "cell_type": "markdown",
   "id": "b4890ab2",
   "metadata": {},
   "source": [
    "Basically it is used within loops to control the flow of execution.Its purpose is to skip the current iteration of the loop and move on to the next iteration"
   ]
  },
  {
   "cell_type": "markdown",
   "id": "728d8b7a",
   "metadata": {},
   "source": [
    "### Write a Python program to add 'ing' at the end of a given string (length should be at least 3). If the given string already ends with 'ing' then add 'ly' instead if the string length of the given string is less than 3, leave it unchanged.\n"
   ]
  },
  {
   "cell_type": "code",
   "execution_count": 11,
   "id": "c90c977e",
   "metadata": {},
   "outputs": [
    {
     "name": "stdout",
     "output_type": "stream",
     "text": [
      "Akashing\n",
      "is\n",
      "Eatingly\n"
     ]
    }
   ],
   "source": [
    "def modify_string(input_str):\n",
    "   \n",
    "    if len(input_str) < 3:\n",
    "        return input_str \n",
    "   \n",
    "    elif input_str.endswith(\"ing\"):\n",
    "        return input_str + \"ly\"\n",
    "    else:\n",
    "        return input_str + \"ing\"\n",
    "\n",
    "\n",
    "input_string1 = \"Akash\"\n",
    "input_string2 = \"is\"\n",
    "input_string3 = \"Eating\"\n",
    "\n",
    "result1 = modify_string(input_string1)\n",
    "result2 = modify_string(input_string2)\n",
    "result3 = modify_string(input_string3)\n",
    "\n",
    "print(result1)  \n",
    "print(result2) \n",
    "print(result3)  "
   ]
  },
  {
   "cell_type": "markdown",
   "id": "78208ba5",
   "metadata": {},
   "source": [
    "### Write a Python program to find the first appearance of the substring 'not' and 'poor' from a given string, if 'not' follows the 'poor', replace the whole 'not'...'poor' substring with 'good'. Return the resulting string"
   ]
  },
  {
   "cell_type": "code",
   "execution_count": 12,
   "id": "7d8711c7",
   "metadata": {},
   "outputs": [
    {
     "name": "stdout",
     "output_type": "stream",
     "text": [
      "The weather is good today. It's not a poor day.\n"
     ]
    }
   ],
   "source": [
    "def replace_not_poor_with_good(input_str):\n",
    "   \n",
    "    index_not = input_str.find(\"not\")\n",
    "   \n",
    "    index_poor = input_str.find(\"poor\")\n",
    "\n",
    "   \n",
    "    if index_not != -1 and index_poor != -1 and index_not < index_poor:\n",
    "        \n",
    "        result_str = input_str[:index_not] + \"good\" + input_str[index_poor + 4:]\n",
    "        return result_str\n",
    "    else:\n",
    "        return input_str  \n",
    "\n",
    "\n",
    "input_string = \"The weather is not that poor today. It's not a poor day.\"\n",
    "\n",
    "result = replace_not_poor_with_good(input_string)\n",
    "print(result)"
   ]
  },
  {
   "cell_type": "markdown",
   "id": "7f264574",
   "metadata": {},
   "source": [
    "### Write a Python function to insert a string in the middle of a string."
   ]
  },
  {
   "cell_type": "code",
   "execution_count": 13,
   "id": "f4a4cffe",
   "metadata": {},
   "outputs": [
    {
     "name": "stdout",
     "output_type": "stream",
     "text": [
      "Hello,beautiful  world!\n"
     ]
    }
   ],
   "source": [
    "def insert_string_in_middle(original_str, string_to_insert):\n",
    "    # Calculate the midpoint of the original string\n",
    "    mid_point = len(original_str) // 2\n",
    "    \n",
    "    # Insert the string_to_insert at the midpoint\n",
    "    result_str = original_str[:mid_point] + string_to_insert + original_str[mid_point:]\n",
    "    \n",
    "    return result_str\n",
    "\n",
    "# Test the function\n",
    "original_string = \"Hello, world!\"\n",
    "string_to_insert = \"beautiful \"\n",
    "\n",
    "result = insert_string_in_middle(original_string, string_to_insert)\n",
    "print(result)"
   ]
  },
  {
   "cell_type": "markdown",
   "id": "5435ccd0",
   "metadata": {},
   "source": [
    "### reverses a string if its length is a multiple of 4."
   ]
  },
  {
   "cell_type": "code",
   "execution_count": 14,
   "id": "e3554c81",
   "metadata": {},
   "outputs": [
    {
     "name": "stdout",
     "output_type": "stream",
     "text": [
      "dcba\n",
      "hello\n",
      "python\n"
     ]
    }
   ],
   "source": [
    "def reverse_string_if_multiple_of_4(input_str):\n",
    "    # Check if the length of the string is a multiple of 4\n",
    "    if len(input_str) % 4 == 0:\n",
    "        # Reverse the string\n",
    "        reversed_str = input_str[::-1]\n",
    "        return reversed_str\n",
    "    else:\n",
    "        return input_str  # Return the input string unchanged\n",
    "\n",
    "# Test the function\n",
    "input_string1 = \"abcd\"\n",
    "input_string2 = \"hello\"\n",
    "input_string3 = \"python\"\n",
    "\n",
    "result1 = reverse_string_if_multiple_of_4(input_string1)\n",
    "result2 = reverse_string_if_multiple_of_4(input_string2)\n",
    "result3 = reverse_string_if_multiple_of_4(input_string3)\n",
    "\n",
    "print(result1)  # Output: \"dcba\" (Reversed because length is 4)\n",
    "print(result2)  # Output: \"hello\" (Unchanged because length is not a multiple of 4)\n",
    "print(result3)  # Output: \"nohtyp\" (Reversed because length is 6)"
   ]
  },
  {
   "cell_type": "markdown",
   "id": "48d8671f",
   "metadata": {},
   "source": [
    "### Write a Python program to get a string made of the first 2 and the last 2 chars from a given a string. If the string length is less than 2, return instead of the empty string."
   ]
  },
  {
   "cell_type": "code",
   "execution_count": 15,
   "id": "b9907390",
   "metadata": {},
   "outputs": [
    {
     "name": "stdout",
     "output_type": "stream",
     "text": [
      "abde\n",
      "xyxy\n",
      "\n"
     ]
    }
   ],
   "source": [
    "def extract_first_and_last_two_chars(input_str):\n",
    "    # Check if the length of the string is less than 2\n",
    "    if len(input_str) < 2:\n",
    "        return \"\"  # Return an empty string\n",
    "    else:\n",
    "        # Extract the first 2 and last 2 characters\n",
    "        result_str = input_str[:2] + input_str[-2:]\n",
    "        return result_str\n",
    "\n",
    "# Test the function\n",
    "input_string1 = \"abcde\"\n",
    "input_string2 = \"xy\"\n",
    "input_string3 = \"z\"\n",
    "\n",
    "result1 = extract_first_and_last_two_chars(input_string1)\n",
    "result2 = extract_first_and_last_two_chars(input_string2)\n",
    "result3 = extract_first_and_last_two_chars(input_string3)\n",
    "\n",
    "print(result1)  # Output: \"abde\"\n",
    "print(result2)  # Output: \"xyxy\"\n",
    "print(result3)  # Output: \"\""
   ]
  },
  {
   "cell_type": "markdown",
   "id": "f0b39584",
   "metadata": {},
   "source": [
    "### Write a Python program to get a single string from two given strings, separated by a space and swap the first two characters of each string."
   ]
  },
  {
   "cell_type": "code",
   "execution_count": 16,
   "id": "e3e383d3",
   "metadata": {},
   "outputs": [
    {
     "name": "stdout",
     "output_type": "stream",
     "text": [
      "wollo herld\n"
     ]
    }
   ],
   "source": [
    "def swap_and_concat_strings(str1, str2):\n",
    "    # Check if both strings have at least 2 characters\n",
    "    if len(str1) >= 2 and len(str2) >= 2:\n",
    "        # Swap the first two characters of each string and concatenate them with a space\n",
    "        result_str = str2[:2] + str1[2:] + ' ' + str1[:2] + str2[2:]\n",
    "        return result_str\n",
    "    else:\n",
    "        return \"Both strings must have at least 2 characters\"\n",
    "\n",
    "# Test the function\n",
    "string1 = \"hello\"\n",
    "string2 = \"world\"\n",
    "result = swap_and_concat_strings(string1, string2)\n",
    "print(result)"
   ]
  },
  {
   "cell_type": "markdown",
   "id": "323a62d0",
   "metadata": {},
   "source": [
    "### Write a Python program to get the Fibonacci series of given range."
   ]
  },
  {
   "cell_type": "code",
   "execution_count": 17,
   "id": "057b2df5",
   "metadata": {},
   "outputs": [
    {
     "name": "stdout",
     "output_type": "stream",
     "text": [
      "[0, 1, 1, 2, 3, 5, 8, 13, 21, 34, 55, 89]\n"
     ]
    }
   ],
   "source": [
    "def fibonacci_in_range(n):\n",
    "    fib_series = []\n",
    "    a, b = 0, 1\n",
    "\n",
    "    while a <= n:\n",
    "        fib_series.append(a)\n",
    "        a, b = b, a + b\n",
    "\n",
    "    return fib_series\n",
    "\n",
    "# Define the upper limit of the range\n",
    "upper_limit = 100  # Change this to your desired range\n",
    "\n",
    "# Call the function to get the Fibonacci series within the given range\n",
    "fibonacci_series = fibonacci_in_range(upper_limit)\n",
    "\n",
    "# Print the Fibonacci series\n",
    "print(fibonacci_series)"
   ]
  },
  {
   "cell_type": "markdown",
   "id": "d9013007",
   "metadata": {},
   "source": [
    "### Write a Python program to get the Factorial number of given number"
   ]
  },
  {
   "cell_type": "code",
   "execution_count": 19,
   "id": "da6371ef",
   "metadata": {},
   "outputs": [
    {
     "name": "stdout",
     "output_type": "stream",
     "text": [
      "Enter a number: 3\n",
      "The factorial of 3 is 6\n"
     ]
    }
   ],
   "source": [
    "def factorial(num):\n",
    "    # Initialize the result to 1\n",
    "    result = 1\n",
    "\n",
    "    # Handle the special case when num is 0\n",
    "    if num == 0:\n",
    "        return 1\n",
    "\n",
    "    # Multiply numbers from 1 to num to calculate the factorial\n",
    "    for i in range(1, num + 1):\n",
    "        result *= i\n",
    "\n",
    "    return result\n",
    "\n",
    "# Input a number for which you want to calculate the factorial\n",
    "number = int(input(\"Enter a number: \"))\n",
    "\n",
    "# Call the factorial function and print the result\n",
    "if number < 0:\n",
    "    print(\"Factorial is not defined for negative numbers.\")\n",
    "else:\n",
    "    fact = factorial(number)\n",
    "    print(f\"The factorial of {number} is {fact}\")"
   ]
  },
  {
   "cell_type": "markdown",
   "id": "81819365",
   "metadata": {},
   "source": [
    "### Write a Python program to check if a number is positive, negative or zero"
   ]
  },
  {
   "cell_type": "code",
   "execution_count": 20,
   "id": "fc38fb6e",
   "metadata": {},
   "outputs": [
    {
     "name": "stdout",
     "output_type": "stream",
     "text": [
      "Enter a number: -34\n",
      "The number is negative.\n"
     ]
    }
   ],
   "source": [
    "# Input a number\n",
    "number = float(input(\"Enter a number: \"))\n",
    "\n",
    "# Check if the number is positive, negative, or zero\n",
    "if number > 0:\n",
    "    print(\"The number is positive.\")\n",
    "elif number < 0:\n",
    "    print(\"The number is negative.\")\n",
    "else:\n",
    "    print(\"The number is zero.\")"
   ]
  },
  {
   "cell_type": "markdown",
   "id": "7defed1a",
   "metadata": {},
   "source": [
    "##  How memory is managed in Python?\n"
   ]
  },
  {
   "cell_type": "markdown",
   "id": "5ec2f62e",
   "metadata": {},
   "source": [
    "Memory management in Python is handled by a built-in mechanism called the Python Memory Manager. It uses several strategies and components to efficiently allocate and manage memory for objects in Python:\n",
    "\n",
    "1. **Reference Counting**: Python employs a reference counting system to keep track of the number of references to an object. When an object's reference count drops to zero, it means there are no more references to that object, and the memory occupied by the object can be reclaimed.\n",
    "\n",
    "2. **Garbage Collection**: In addition to reference counting, Python also uses a cyclic garbage collector (usually known as the \"gc\" module) to detect and collect cyclic references—situations where objects reference each other in a cycle, making them unreachable by reference counting alone.\n",
    "\n",
    "3. **Memory Pools**: Python uses memory pools to efficiently manage memory allocation for small objects. Memory pools reduce the overhead of memory allocation and deallocation by preallocating a fixed-sized block of memory and then allocating small chunks from this block.\n",
    "\n",
    "4. **Automatic Memory Management**: Python handles memory allocation and deallocation automatically. Developers don't need to manually allocate or deallocate memory for objects as in languages like C or C++.\n",
    "\n",
    "5. **Dynamic Typing**: Python is a dynamically typed language, which means objects can change their type during their lifetime. This dynamic typing necessitates a flexible memory management system.\n",
    "\n",
    "6. **Memory Optimization**: Python uses techniques like memory sharing and interning to optimize memory usage. For example, small integers and string literals are often interned, meaning they are stored in a central pool to save memory when duplicated.\n",
    "\n",
    "7. **Memory Profiling and Optimization Tools**: Python provides various tools and modules for memory profiling and optimization, such as the gc module for controlling the garbage collector, memory profiler libraries like memory_profiler, and third-party tools like valgrind.\n",
    "\n",
    "It's important to note that Python's memory management is mostly abstracted from the developer. Developers are responsible for creating and using objects, but they don't need to worry about low-level memory allocation and deallocation, thanks to Python's automatic memory management.\n",
    "\n",
    "However, developers should be aware of memory issues like circular references, which can prevent objects from being garbage collected and lead to memory leaks. Proper coding practices and understanding of Python's memory management mechanisms can help in writing efficient and memory-safe Python programs."
   ]
  },
  {
   "cell_type": "code",
   "execution_count": null,
   "id": "0b30663f",
   "metadata": {},
   "outputs": [],
   "source": []
  }
 ],
 "metadata": {
  "kernelspec": {
   "display_name": "Python 3 (ipykernel)",
   "language": "python",
   "name": "python3"
  },
  "language_info": {
   "codemirror_mode": {
    "name": "ipython",
    "version": 3
   },
   "file_extension": ".py",
   "mimetype": "text/x-python",
   "name": "python",
   "nbconvert_exporter": "python",
   "pygments_lexer": "ipython3",
   "version": "3.11.4"
  }
 },
 "nbformat": 4,
 "nbformat_minor": 5
}
